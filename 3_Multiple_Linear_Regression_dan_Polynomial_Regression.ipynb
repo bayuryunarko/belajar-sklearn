{
  "nbformat": 4,
  "nbformat_minor": 0,
  "metadata": {
    "colab": {
      "name": "3. Multiple Linear Regression dan Polynomial Regression.ipynb",
      "provenance": [],
      "collapsed_sections": [],
      "authorship_tag": "ABX9TyOKPzkO/pYUvHI30kZ1oYQg",
      "include_colab_link": true
    },
    "kernelspec": {
      "name": "python3",
      "display_name": "Python 3"
    },
    "language_info": {
      "name": "python"
    }
  },
  "cells": [
    {
      "cell_type": "markdown",
      "metadata": {
        "id": "view-in-github",
        "colab_type": "text"
      },
      "source": [
        "<a href=\"https://colab.research.google.com/github/bayuryunarko/belajar-sklearn/blob/main/3_Multiple_Linear_Regression_dan_Polynomial_Regression.ipynb\" target=\"_parent\"><img src=\"https://colab.research.google.com/assets/colab-badge.svg\" alt=\"Open In Colab\"/></a>"
      ]
    },
    {
      "cell_type": "markdown",
      "metadata": {
        "id": "71Ca2HIlEQnp"
      },
      "source": [
        "#Latihan SKLearn dari channel Youtube \"Indonesia Belajar\""
      ]
    },
    {
      "cell_type": "markdown",
      "metadata": {
        "id": "jCOTGVf0EgzJ"
      },
      "source": [
        "##Sample Dataset"
      ]
    },
    {
      "cell_type": "markdown",
      "metadata": {
        "id": "g0TN4O__Ejtn"
      },
      "source": [
        "###Training Dataset"
      ]
    },
    {
      "cell_type": "code",
      "metadata": {
        "colab": {
          "base_uri": "https://localhost:8080/",
          "height": 204
        },
        "id": "4zFrB5igEJue",
        "outputId": "80c90dff-0a2a-49a1-f550-09e418a57143"
      },
      "source": [
        "import pandas as pd\n",
        "\n",
        "pizza = {\n",
        "    'diameter' : [6, 8, 10, 14, 18],\n",
        "    'n_topping' : [2, 1, 0, 2, 0],\n",
        "    'harga' : [7, 9, 13, 17.5, 18]\n",
        "}\n",
        "\n",
        "train_pizza_df = pd.DataFrame(pizza)\n",
        "train_pizza_df"
      ],
      "execution_count": 2,
      "outputs": [
        {
          "output_type": "execute_result",
          "data": {
            "text/html": [
              "<div>\n",
              "<style scoped>\n",
              "    .dataframe tbody tr th:only-of-type {\n",
              "        vertical-align: middle;\n",
              "    }\n",
              "\n",
              "    .dataframe tbody tr th {\n",
              "        vertical-align: top;\n",
              "    }\n",
              "\n",
              "    .dataframe thead th {\n",
              "        text-align: right;\n",
              "    }\n",
              "</style>\n",
              "<table border=\"1\" class=\"dataframe\">\n",
              "  <thead>\n",
              "    <tr style=\"text-align: right;\">\n",
              "      <th></th>\n",
              "      <th>diameter</th>\n",
              "      <th>n_topping</th>\n",
              "      <th>harga</th>\n",
              "    </tr>\n",
              "  </thead>\n",
              "  <tbody>\n",
              "    <tr>\n",
              "      <th>0</th>\n",
              "      <td>6</td>\n",
              "      <td>2</td>\n",
              "      <td>7.0</td>\n",
              "    </tr>\n",
              "    <tr>\n",
              "      <th>1</th>\n",
              "      <td>8</td>\n",
              "      <td>1</td>\n",
              "      <td>9.0</td>\n",
              "    </tr>\n",
              "    <tr>\n",
              "      <th>2</th>\n",
              "      <td>10</td>\n",
              "      <td>0</td>\n",
              "      <td>13.0</td>\n",
              "    </tr>\n",
              "    <tr>\n",
              "      <th>3</th>\n",
              "      <td>14</td>\n",
              "      <td>2</td>\n",
              "      <td>17.5</td>\n",
              "    </tr>\n",
              "    <tr>\n",
              "      <th>4</th>\n",
              "      <td>18</td>\n",
              "      <td>0</td>\n",
              "      <td>18.0</td>\n",
              "    </tr>\n",
              "  </tbody>\n",
              "</table>\n",
              "</div>"
            ],
            "text/plain": [
              "   diameter  n_topping  harga\n",
              "0         6          2    7.0\n",
              "1         8          1    9.0\n",
              "2        10          0   13.0\n",
              "3        14          2   17.5\n",
              "4        18          0   18.0"
            ]
          },
          "metadata": {
            "tags": []
          },
          "execution_count": 2
        }
      ]
    },
    {
      "cell_type": "markdown",
      "metadata": {
        "id": "TBWS166HFEM7"
      },
      "source": [
        "###Testing Dataset"
      ]
    },
    {
      "cell_type": "code",
      "metadata": {
        "colab": {
          "base_uri": "https://localhost:8080/",
          "height": 204
        },
        "id": "JPiA0JNFE7as",
        "outputId": "7017f8d7-d8b1-4650-86b7-454231f2381b"
      },
      "source": [
        "pizza1 = {\n",
        "    'diameter' : [8, 9, 11, 16, 13],\n",
        "    'n_topping' : [2, 0, 2, 2, 0],\n",
        "    'harga' : [11, 8.5, 15, 18, 11]\n",
        "}\n",
        "\n",
        "test_pizza_df = pd.DataFrame(pizza1)\n",
        "test_pizza_df"
      ],
      "execution_count": 3,
      "outputs": [
        {
          "output_type": "execute_result",
          "data": {
            "text/html": [
              "<div>\n",
              "<style scoped>\n",
              "    .dataframe tbody tr th:only-of-type {\n",
              "        vertical-align: middle;\n",
              "    }\n",
              "\n",
              "    .dataframe tbody tr th {\n",
              "        vertical-align: top;\n",
              "    }\n",
              "\n",
              "    .dataframe thead th {\n",
              "        text-align: right;\n",
              "    }\n",
              "</style>\n",
              "<table border=\"1\" class=\"dataframe\">\n",
              "  <thead>\n",
              "    <tr style=\"text-align: right;\">\n",
              "      <th></th>\n",
              "      <th>diameter</th>\n",
              "      <th>n_topping</th>\n",
              "      <th>harga</th>\n",
              "    </tr>\n",
              "  </thead>\n",
              "  <tbody>\n",
              "    <tr>\n",
              "      <th>0</th>\n",
              "      <td>8</td>\n",
              "      <td>2</td>\n",
              "      <td>11.0</td>\n",
              "    </tr>\n",
              "    <tr>\n",
              "      <th>1</th>\n",
              "      <td>9</td>\n",
              "      <td>0</td>\n",
              "      <td>8.5</td>\n",
              "    </tr>\n",
              "    <tr>\n",
              "      <th>2</th>\n",
              "      <td>11</td>\n",
              "      <td>2</td>\n",
              "      <td>15.0</td>\n",
              "    </tr>\n",
              "    <tr>\n",
              "      <th>3</th>\n",
              "      <td>16</td>\n",
              "      <td>2</td>\n",
              "      <td>18.0</td>\n",
              "    </tr>\n",
              "    <tr>\n",
              "      <th>4</th>\n",
              "      <td>13</td>\n",
              "      <td>0</td>\n",
              "      <td>11.0</td>\n",
              "    </tr>\n",
              "  </tbody>\n",
              "</table>\n",
              "</div>"
            ],
            "text/plain": [
              "   diameter  n_topping  harga\n",
              "0         8          2   11.0\n",
              "1         9          0    8.5\n",
              "2        11          2   15.0\n",
              "3        16          2   18.0\n",
              "4        13          0   11.0"
            ]
          },
          "metadata": {
            "tags": []
          },
          "execution_count": 3
        }
      ]
    },
    {
      "cell_type": "markdown",
      "metadata": {
        "id": "9FOGBJcmFgtM"
      },
      "source": [
        "##Preprocessing Dataset"
      ]
    },
    {
      "cell_type": "code",
      "metadata": {
        "id": "O-eccOGiFbr8"
      },
      "source": [
        "import numpy as np"
      ],
      "execution_count": 4,
      "outputs": []
    },
    {
      "cell_type": "code",
      "metadata": {
        "colab": {
          "base_uri": "https://localhost:8080/"
        },
        "id": "bvw24JrJFlWV",
        "outputId": "5749db33-1a6d-4664-e3fc-b01d9ab20144"
      },
      "source": [
        "X_train = np.array(train_pizza_df[['diameter', 'n_topping']]) #harus dalam format 2 dimensi\n",
        "y_train = np.array(train_pizza_df['harga']) #harus dalam format 1 dimensi\n",
        "\n",
        "print(f'X_train: \\n{X_train}\\n')\n",
        "print(f'y_train: {y_train}')"
      ],
      "execution_count": 8,
      "outputs": [
        {
          "output_type": "stream",
          "text": [
            "X_train: \n",
            "[[ 6  2]\n",
            " [ 8  1]\n",
            " [10  0]\n",
            " [14  2]\n",
            " [18  0]]\n",
            "\n",
            "y_train: [ 7.   9.  13.  17.5 18. ]\n"
          ],
          "name": "stdout"
        }
      ]
    },
    {
      "cell_type": "code",
      "metadata": {
        "colab": {
          "base_uri": "https://localhost:8080/"
        },
        "id": "l9p5t2U4GBSO",
        "outputId": "13dac860-be61-43e6-88f3-335640223b71"
      },
      "source": [
        "X_test = np.array(test_pizza_df[['diameter', 'n_topping']])\n",
        "y_test = np.array(test_pizza_df['harga'])\n",
        "\n",
        "print(f'X_train: \\n{X_test}\\n')\n",
        "print(f'y_train: {y_test}')"
      ],
      "execution_count": 9,
      "outputs": [
        {
          "output_type": "stream",
          "text": [
            "X_train: \n",
            "[[ 8  2]\n",
            " [ 9  0]\n",
            " [11  2]\n",
            " [16  2]\n",
            " [13  0]]\n",
            "\n",
            "y_train: [11.   8.5 15.  18.  11. ]\n"
          ],
          "name": "stdout"
        }
      ]
    },
    {
      "cell_type": "markdown",
      "metadata": {
        "id": "_Xkdg3ryGf8H"
      },
      "source": [
        "##Multiple Linear Regression\n",
        "\n",
        "Multiple Linear Regression merupakan generalisasi dari Simple Linear Regression yang memungkinkan untuk menggunakan beberapa explanatory variables."
      ]
    },
    {
      "cell_type": "code",
      "metadata": {
        "colab": {
          "base_uri": "https://localhost:8080/"
        },
        "id": "6wOurKXMGNME",
        "outputId": "8086c2ca-7474-4428-8a0b-5ef6ff4dd2e3"
      },
      "source": [
        "from sklearn.linear_model import LinearRegression\n",
        "from sklearn.metrics import r2_score\n",
        "\n",
        "model = LinearRegression()\n",
        "model.fit(X_train, y_train)\n",
        "y_pred = model.predict(X_test)\n",
        "\n",
        "print(f'R2 Square : {r2_score(y_test, y_pred)}')"
      ],
      "execution_count": 12,
      "outputs": [
        {
          "output_type": "stream",
          "text": [
            "R2 Square : 0.6699192005330594\n"
          ],
          "name": "stdout"
        }
      ]
    },
    {
      "cell_type": "markdown",
      "metadata": {
        "id": "IFGsQXFzHh7O"
      },
      "source": [
        "##Polynomial Regression\n",
        "\n",
        "Polynomial Regression memodelkan hubungan antara independent variable x dan dependent variable y sebagai derajat polynomial dalam x"
      ]
    },
    {
      "cell_type": "markdown",
      "metadata": {
        "id": "8NUGoBhXH4Hg"
      },
      "source": [
        "##Preprocessing Dataset"
      ]
    },
    {
      "cell_type": "code",
      "metadata": {
        "colab": {
          "base_uri": "https://localhost:8080/"
        },
        "id": "wofeXU-nHM0U",
        "outputId": "431b1eaf-e1d3-4322-c55c-dfb81a15c870"
      },
      "source": [
        "X_train = np.array(train_pizza_df['diameter']).reshape(-1,1) #harus dalam format 2 dimensi\n",
        "y_train = np.array(train_pizza_df['harga']) #harus dalam format 1 dimensi\n",
        "\n",
        "print(f'X_train: \\n{X_train}\\n')\n",
        "print(f'y_train: {y_train}')"
      ],
      "execution_count": 17,
      "outputs": [
        {
          "output_type": "stream",
          "text": [
            "X_train: \n",
            "[[ 6]\n",
            " [ 8]\n",
            " [10]\n",
            " [14]\n",
            " [18]]\n",
            "\n",
            "y_train: [ 7.   9.  13.  17.5 18. ]\n"
          ],
          "name": "stdout"
        }
      ]
    },
    {
      "cell_type": "markdown",
      "metadata": {
        "id": "b0uxBnofIQLc"
      },
      "source": [
        "##Polynimial Regression : Quadratic"
      ]
    },
    {
      "cell_type": "markdown",
      "metadata": {
        "id": "ouh4ie9eIVAi"
      },
      "source": [
        "###Polynomial Features"
      ]
    },
    {
      "cell_type": "code",
      "metadata": {
        "colab": {
          "base_uri": "https://localhost:8080/"
        },
        "id": "QuCgaqt8IArq",
        "outputId": "3fe45baf-3e6d-47ee-a775-84a330b56269"
      },
      "source": [
        "from sklearn.preprocessing import PolynomialFeatures\n",
        "\n",
        "quadratic_feature = PolynomialFeatures(degree=2)\n",
        "X_train_quadratic = quadratic_feature.fit_transform(X_train)\n",
        "\n",
        "print(f'X_train_quadratic: \\n{X_train_quadratic}\\n')"
      ],
      "execution_count": 18,
      "outputs": [
        {
          "output_type": "stream",
          "text": [
            "X_train_quadratic: \n",
            "[[  1.   6.  36.]\n",
            " [  1.   8.  64.]\n",
            " [  1.  10. 100.]\n",
            " [  1.  14. 196.]\n",
            " [  1.  18. 324.]]\n",
            "\n"
          ],
          "name": "stdout"
        }
      ]
    },
    {
      "cell_type": "markdown",
      "metadata": {
        "id": "l6XjJW07JcOj"
      },
      "source": [
        "###Training Model"
      ]
    },
    {
      "cell_type": "code",
      "metadata": {
        "colab": {
          "base_uri": "https://localhost:8080/"
        },
        "id": "I0016kk6ItWE",
        "outputId": "424c05d5-6dee-41a1-acdd-e46fd89b2b6b"
      },
      "source": [
        "model = LinearRegression()\n",
        "model.fit(X_train_quadratic, y_train)"
      ],
      "execution_count": 19,
      "outputs": [
        {
          "output_type": "execute_result",
          "data": {
            "text/plain": [
              "LinearRegression(copy_X=True, fit_intercept=True, n_jobs=None, normalize=False)"
            ]
          },
          "metadata": {
            "tags": []
          },
          "execution_count": 19
        }
      ]
    },
    {
      "cell_type": "markdown",
      "metadata": {
        "id": "5AzAulEVJoM9"
      },
      "source": [
        "###Visualisasi Model "
      ]
    },
    {
      "cell_type": "code",
      "metadata": {
        "id": "6oad8NTiJneK"
      },
      "source": [
        "import matplotlib.pyplot as plt"
      ],
      "execution_count": 20,
      "outputs": []
    },
    {
      "cell_type": "code",
      "metadata": {
        "colab": {
          "base_uri": "https://localhost:8080/",
          "height": 295
        },
        "id": "R-SP7fVZJtO8",
        "outputId": "0fc5376f-d5c0-43dd-9566-4b88e209dc1f"
      },
      "source": [
        "X_vis = np.linspace(0, 25, 100).reshape(-1,1)\n",
        "X_vis_quadratic = quadratic_feature.transform(X_vis)\n",
        "y_vis_quadratic = model.predict(X_vis_quadratic)\n",
        "\n",
        "plt.scatter(X_train, y_train)\n",
        "plt.plot(X_vis, y_vis_quadratic, '-r')\n",
        "\n",
        "plt.title('Perbandingan Diameter dan Harga Pizza')\n",
        "plt.xlabel('Diameter (inch)')\n",
        "plt.ylabel('Harga')\n",
        "plt.xlim(0,25)\n",
        "plt.ylim(0,25)\n",
        "plt.grid(True)\n",
        "plt.show()"
      ],
      "execution_count": 22,
      "outputs": [
        {
          "output_type": "display_data",
          "data": {
            "image/png": "[encoded data removed]",
            "text/plain": [
              "<Figure size 432x288 with 1 Axes>"
            ]
          },
          "metadata": {
            "tags": [],
            "needs_background": "light"
          }
        }
      ]
    },
    {
      "cell_type": "markdown",
      "metadata": {
        "id": "VEaBLel9Lcly"
      },
      "source": [
        "##Polynomial Regression: Quadratic vs Cubic"
      ]
    },
    {
      "cell_type": "code",
      "metadata": {
        "colab": {
          "base_uri": "https://localhost:8080/",
          "height": 295
        },
        "id": "sZqvPyFjKgZy",
        "outputId": "2f8f9eed-94e5-4fd9-c736-7fce7a400fca"
      },
      "source": [
        "# Training Set\n",
        "plt.scatter(X_train, y_train)\n",
        "\n",
        "# Linear \n",
        "model = LinearRegression()\n",
        "model.fit(X_train, y_train)\n",
        "X_vis = np.linspace(0, 25, 100).reshape(-1,1)\n",
        "y_vis = model.predict(X_vis)\n",
        "plt.plot(X_vis, y_vis, '--r', label='linear')\n",
        "\n",
        "# Quadratic\n",
        "quadratic_feature = PolynomialFeatures(degree=2)\n",
        "X_train_quadratic = quadratic_feature.fit_transform(X_train)\n",
        "model = LinearRegression()\n",
        "model.fit(X_train_quadratic, y_train)\n",
        "X_vis_quadratic = quadratic_feature.transform(X_vis)\n",
        "y_vis_quadratic = model.predict(X_vis_quadratic)\n",
        "plt.plot(X_vis, y_vis_quadratic, '--g', label='quadratic')\n",
        "\n",
        "#Cubic\n",
        "qubic_feature = PolynomialFeatures(degree=3)\n",
        "X_train_qubic = qubic_feature.fit_transform(X_train)\n",
        "model = LinearRegression()\n",
        "model.fit(X_train_qubic, y_train)\n",
        "X_vis_cubic = qubic_feature.transform(X_vis)\n",
        "y_vis_cubic = model.predict(X_vis_cubic)\n",
        "plt.plot(X_vis, y_vis_cubic, '--y', label='cubic')\n",
        "\n",
        "\n",
        "plt.title('Perbandingan Diameter dan Harga Pizza')\n",
        "plt.xlabel('Diameter (inch)')\n",
        "plt.ylabel('Harga')\n",
        "plt.xlim(0,25)\n",
        "plt.ylim(0,25)\n",
        "plt.grid(True)\n",
        "plt.show()"
      ],
      "execution_count": 24,
      "outputs": [
        {
          "output_type": "display_data",
          "data": {
            "image/png": "[encoded data removed]",
            "text/plain": [
              "<Figure size 432x288 with 1 Axes>"
            ]
          },
          "metadata": {
            "tags": [],
            "needs_background": "light"
          }
        }
      ]
    },
    {
      "cell_type": "code",
      "metadata": {
        "id": "isAIcjkgMxoj"
      },
      "source": [
        ""
      ],
      "execution_count": null,
      "outputs": []
    }
  ]
}