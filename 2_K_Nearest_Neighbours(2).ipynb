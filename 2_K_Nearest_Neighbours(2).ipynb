{
  "nbformat": 4,
  "nbformat_minor": 0,
  "metadata": {
    "colab": {
      "name": "2. K-Nearest Neighbours(2).ipynb",
      "provenance": [],
      "collapsed_sections": [],
      "authorship_tag": "ABX9TyOS7iE5aUnOxcV6KKC5bzPT",
      "include_colab_link": true
    },
    "kernelspec": {
      "name": "python3",
      "display_name": "Python 3"
    },
    "language_info": {
      "name": "python"
    }
  },
  "cells": [
    {
      "cell_type": "markdown",
      "metadata": {
        "id": "view-in-github",
        "colab_type": "text"
      },
      "source": [
        "<a href=\"https://colab.research.google.com/github/bayuryunarko/belajar-sklearn/blob/main/2_K_Nearest_Neighbours(2).ipynb\" target=\"_parent\"><img src=\"https://colab.research.google.com/assets/colab-badge.svg\" alt=\"Open In Colab\"/></a>"
      ]
    },
    {
      "cell_type": "markdown",
      "metadata": {
        "id": "sTvFIQYeMfB8"
      },
      "source": [
        "#Latihan SKLearn dari channel Youtube \"Indonesia Belajar\""
      ]
    },
    {
      "cell_type": "markdown",
      "metadata": {
        "id": "8lN73JmBMnNS"
      },
      "source": [
        "##Regression dengan KNN (K-Nearest Neighbours)\n",
        "\n",
        "- KNN adalah model machine learning yang dapat digunakan untuk melakukan prediksi berdasarkan kedekatan karakteristik dengan sejumlah tetangga terdekat\n",
        "- Prediksi yang dilakukan dapat diterapkan dengan baik pada classsification maupun regression task"
      ]
    },
    {
      "cell_type": "markdown",
      "metadata": {
        "id": "R5RerEwLOBPr"
      },
      "source": [
        "##Sample Dataset"
      ]
    },
    {
      "cell_type": "code",
      "metadata": {
        "colab": {
          "base_uri": "https://localhost:8080/",
          "height": 328
        },
        "id": "64-Y4I0kMMdm",
        "outputId": "850e291b-8a44-4006-dc0b-31f073d94eb9"
      },
      "source": [
        "import pandas as pd\n",
        "\n",
        "sensus = {\n",
        "    'tinggi' : [158, 170, 183, 191, 155, 163, 180, 158, 178],\n",
        "    'jk' : ['pria', 'pria', 'pria', 'pria', 'wanita', 'wanita', 'wanita', 'wanita', 'wanita'],\n",
        "    'berat' : [64, 86, 84, 80, 49, 59, 67, 54, 67]\n",
        "}\n",
        "\n",
        "sensus_df = pd.DataFrame(sensus)\n",
        "sensus_df"
      ],
      "execution_count": 2,
      "outputs": [
        {
          "output_type": "execute_result",
          "data": {
            "text/html": [
              "<div>\n",
              "<style scoped>\n",
              "    .dataframe tbody tr th:only-of-type {\n",
              "        vertical-align: middle;\n",
              "    }\n",
              "\n",
              "    .dataframe tbody tr th {\n",
              "        vertical-align: top;\n",
              "    }\n",
              "\n",
              "    .dataframe thead th {\n",
              "        text-align: right;\n",
              "    }\n",
              "</style>\n",
              "<table border=\"1\" class=\"dataframe\">\n",
              "  <thead>\n",
              "    <tr style=\"text-align: right;\">\n",
              "      <th></th>\n",
              "      <th>tinggi</th>\n",
              "      <th>jk</th>\n",
              "      <th>berat</th>\n",
              "    </tr>\n",
              "  </thead>\n",
              "  <tbody>\n",
              "    <tr>\n",
              "      <th>0</th>\n",
              "      <td>158</td>\n",
              "      <td>pria</td>\n",
              "      <td>64</td>\n",
              "    </tr>\n",
              "    <tr>\n",
              "      <th>1</th>\n",
              "      <td>170</td>\n",
              "      <td>pria</td>\n",
              "      <td>86</td>\n",
              "    </tr>\n",
              "    <tr>\n",
              "      <th>2</th>\n",
              "      <td>183</td>\n",
              "      <td>pria</td>\n",
              "      <td>84</td>\n",
              "    </tr>\n",
              "    <tr>\n",
              "      <th>3</th>\n",
              "      <td>191</td>\n",
              "      <td>pria</td>\n",
              "      <td>80</td>\n",
              "    </tr>\n",
              "    <tr>\n",
              "      <th>4</th>\n",
              "      <td>155</td>\n",
              "      <td>wanita</td>\n",
              "      <td>49</td>\n",
              "    </tr>\n",
              "    <tr>\n",
              "      <th>5</th>\n",
              "      <td>163</td>\n",
              "      <td>wanita</td>\n",
              "      <td>59</td>\n",
              "    </tr>\n",
              "    <tr>\n",
              "      <th>6</th>\n",
              "      <td>180</td>\n",
              "      <td>wanita</td>\n",
              "      <td>67</td>\n",
              "    </tr>\n",
              "    <tr>\n",
              "      <th>7</th>\n",
              "      <td>158</td>\n",
              "      <td>wanita</td>\n",
              "      <td>54</td>\n",
              "    </tr>\n",
              "    <tr>\n",
              "      <th>8</th>\n",
              "      <td>178</td>\n",
              "      <td>wanita</td>\n",
              "      <td>67</td>\n",
              "    </tr>\n",
              "  </tbody>\n",
              "</table>\n",
              "</div>"
            ],
            "text/plain": [
              "   tinggi      jk  berat\n",
              "0     158    pria     64\n",
              "1     170    pria     86\n",
              "2     183    pria     84\n",
              "3     191    pria     80\n",
              "4     155  wanita     49\n",
              "5     163  wanita     59\n",
              "6     180  wanita     67\n",
              "7     158  wanita     54\n",
              "8     178  wanita     67"
            ]
          },
          "metadata": {
            "tags": []
          },
          "execution_count": 2
        }
      ]
    },
    {
      "cell_type": "markdown",
      "metadata": {
        "id": "yfVU9vZaOfm0"
      },
      "source": [
        "##Regression dengan KNN"
      ]
    },
    {
      "cell_type": "markdown",
      "metadata": {
        "id": "_0gxb6YQOruQ"
      },
      "source": [
        "##Features dan Target"
      ]
    },
    {
      "cell_type": "code",
      "metadata": {
        "colab": {
          "base_uri": "https://localhost:8080/"
        },
        "id": "dc0NCawsOACY",
        "outputId": "41bfdb59-28b6-4019-b216-b0f278078e96"
      },
      "source": [
        "import numpy as np\n",
        "\n",
        "X_train = np.array(sensus_df[['tinggi', 'jk']])\n",
        "y_train = np.array(sensus_df['berat'])\n",
        "\n",
        "print(f'X_train: \\n{X_train}\\n')\n",
        "print(f'y_train: {y_train}')"
      ],
      "execution_count": 3,
      "outputs": [
        {
          "output_type": "stream",
          "text": [
            "X_train: \n",
            "[[158 'pria']\n",
            " [170 'pria']\n",
            " [183 'pria']\n",
            " [191 'pria']\n",
            " [155 'wanita']\n",
            " [163 'wanita']\n",
            " [180 'wanita']\n",
            " [158 'wanita']\n",
            " [178 'wanita']]\n",
            "\n",
            "y_train: [64 86 84 80 49 59 67 54 67]\n"
          ],
          "name": "stdout"
        }
      ]
    },
    {
      "cell_type": "markdown",
      "metadata": {
        "id": "W6aOUGoZPVZ3"
      },
      "source": [
        "##Preprocess Dataset Konversi Label menjadi Numerik Biner"
      ]
    },
    {
      "cell_type": "code",
      "metadata": {
        "colab": {
          "base_uri": "https://localhost:8080/"
        },
        "id": "rDhrBDxZO47H",
        "outputId": "412e9710-8c95-427a-9c30-3f09f1fd5461"
      },
      "source": [
        "X_train_transpose = np.transpose(X_train)\n",
        "\n",
        "print(f'X_train: \\n{X_train}\\n')\n",
        "print(f'X_train: \\n{X_train_transpose}')"
      ],
      "execution_count": 4,
      "outputs": [
        {
          "output_type": "stream",
          "text": [
            "X_train: \n",
            "[[158 'pria']\n",
            " [170 'pria']\n",
            " [183 'pria']\n",
            " [191 'pria']\n",
            " [155 'wanita']\n",
            " [163 'wanita']\n",
            " [180 'wanita']\n",
            " [158 'wanita']\n",
            " [178 'wanita']]\n",
            "\n",
            "X_train: \n",
            "[[158 170 183 191 155 163 180 158 178]\n",
            " ['pria' 'pria' 'pria' 'pria' 'wanita' 'wanita' 'wanita' 'wanita'\n",
            "  'wanita']]\n"
          ],
          "name": "stdout"
        }
      ]
    },
    {
      "cell_type": "code",
      "metadata": {
        "colab": {
          "base_uri": "https://localhost:8080/"
        },
        "id": "ypOZ4Ta4PlwL",
        "outputId": "6b940961-862f-4723-f5a5-363545434272"
      },
      "source": [
        "from sklearn.preprocessing import LabelBinarizer\n",
        "\n",
        "lb = LabelBinarizer()\n",
        "jk_bin = lb.fit_transform(X_train_transpose[1])\n",
        "\n",
        "print(f'jk: {X_train_transpose[1]}\\n')\n",
        "print(f'jk_binarised: \\n{jk_bin}')"
      ],
      "execution_count": 6,
      "outputs": [
        {
          "output_type": "stream",
          "text": [
            "jk: ['pria' 'pria' 'pria' 'pria' 'wanita' 'wanita' 'wanita' 'wanita' 'wanita']\n",
            "\n",
            "jk_binarised: \n",
            "[[0]\n",
            " [0]\n",
            " [0]\n",
            " [0]\n",
            " [1]\n",
            " [1]\n",
            " [1]\n",
            " [1]\n",
            " [1]]\n"
          ],
          "name": "stdout"
        }
      ]
    },
    {
      "cell_type": "code",
      "metadata": {
        "colab": {
          "base_uri": "https://localhost:8080/"
        },
        "id": "TA-aGtmJPx3G",
        "outputId": "9d0324e9-321b-4adf-a692-bd7abc137ee5"
      },
      "source": [
        "jk_binarised = jk_bin.flatten()\n",
        "jk_binarised"
      ],
      "execution_count": 7,
      "outputs": [
        {
          "output_type": "execute_result",
          "data": {
            "text/plain": [
              "array([0, 0, 0, 0, 1, 1, 1, 1, 1])"
            ]
          },
          "metadata": {
            "tags": []
          },
          "execution_count": 7
        }
      ]
    },
    {
      "cell_type": "code",
      "metadata": {
        "colab": {
          "base_uri": "https://localhost:8080/"
        },
        "id": "jsauqLDIQLL-",
        "outputId": "51a86555-069a-4606-ef5b-744c19600cee"
      },
      "source": [
        "X_train_transpose[1] = jk_binarised\n",
        "X_train = X_train_transpose.transpose()\n",
        "\n",
        "print(f'X_train_transpose: \\n{X_train_transpose}\\n')\n",
        "print(f'X_train: \\n{X_train}')"
      ],
      "execution_count": 8,
      "outputs": [
        {
          "output_type": "stream",
          "text": [
            "X_train_transpose: \n",
            "[[158 170 183 191 155 163 180 158 178]\n",
            " [0 0 0 0 1 1 1 1 1]]\n",
            "\n",
            "X_train: \n",
            "[[158 0]\n",
            " [170 0]\n",
            " [183 0]\n",
            " [191 0]\n",
            " [155 1]\n",
            " [163 1]\n",
            " [180 1]\n",
            " [158 1]\n",
            " [178 1]]\n"
          ],
          "name": "stdout"
        }
      ]
    },
    {
      "cell_type": "markdown",
      "metadata": {
        "id": "gpIErpyqRDtZ"
      },
      "source": [
        "##Training KNN Regression Model"
      ]
    },
    {
      "cell_type": "code",
      "metadata": {
        "colab": {
          "base_uri": "https://localhost:8080/"
        },
        "id": "7x00XoJsQhBF",
        "outputId": "33d62ba4-7a3b-4d5e-ee31-7c378689f246"
      },
      "source": [
        "from sklearn.neighbors import KNeighborsRegressor\n",
        "\n",
        "K=3\n",
        "model = KNeighborsRegressor(n_neighbors = K)\n",
        "model.fit(X_train, y_train)"
      ],
      "execution_count": 9,
      "outputs": [
        {
          "output_type": "execute_result",
          "data": {
            "text/plain": [
              "KNeighborsRegressor(algorithm='auto', leaf_size=30, metric='minkowski',\n",
              "                    metric_params=None, n_jobs=None, n_neighbors=3, p=2,\n",
              "                    weights='uniform')"
            ]
          },
          "metadata": {
            "tags": []
          },
          "execution_count": 9
        }
      ]
    },
    {
      "cell_type": "markdown",
      "metadata": {
        "id": "h6CbSJl7RjzD"
      },
      "source": [
        "##Prediksi Berat Badan"
      ]
    },
    {
      "cell_type": "code",
      "metadata": {
        "colab": {
          "base_uri": "https://localhost:8080/"
        },
        "id": "dyqVVMHSRXCT",
        "outputId": "2472d64d-e243-45ee-eb2a-82adfd96d386"
      },
      "source": [
        "X_new = np.array([[155, 1]])\n",
        "X_new"
      ],
      "execution_count": 10,
      "outputs": [
        {
          "output_type": "execute_result",
          "data": {
            "text/plain": [
              "array([[155,   1]])"
            ]
          },
          "metadata": {
            "tags": []
          },
          "execution_count": 10
        }
      ]
    },
    {
      "cell_type": "code",
      "metadata": {
        "colab": {
          "base_uri": "https://localhost:8080/"
        },
        "id": "op1ZlnwfRqwQ",
        "outputId": "24ec7584-55b7-4032-9eef-dc6b8bb77ce5"
      },
      "source": [
        "y_pred = model.predict(X_new)\n",
        "y_pred"
      ],
      "execution_count": 11,
      "outputs": [
        {
          "output_type": "execute_result",
          "data": {
            "text/plain": [
              "array([55.66666667])"
            ]
          },
          "metadata": {
            "tags": []
          },
          "execution_count": 11
        }
      ]
    },
    {
      "cell_type": "markdown",
      "metadata": {
        "id": "cD7IyPgsSEkG"
      },
      "source": [
        "##Evaluasi KNN Regressionn Model"
      ]
    },
    {
      "cell_type": "code",
      "metadata": {
        "colab": {
          "base_uri": "https://localhost:8080/"
        },
        "id": "mJu3vNesRukQ",
        "outputId": "3ee2ab61-92ec-4e91-e9a0-b2bee8d9632d"
      },
      "source": [
        "X_test = np.array([[158, 0], [180,0], [160,1], [169,1]])\n",
        "y_test = np.array([65, 96, 52, 67])\n",
        "\n",
        "print(f'X_test : \\n{X_test}\\n')\n",
        "print(f'y_test : {y_test}')"
      ],
      "execution_count": 12,
      "outputs": [
        {
          "output_type": "stream",
          "text": [
            "X_test : \n",
            "[[158   0]\n",
            " [180   0]\n",
            " [160   1]\n",
            " [169   1]]\n",
            "\n",
            "y_test : [65 96 52 67]\n"
          ],
          "name": "stdout"
        }
      ]
    },
    {
      "cell_type": "code",
      "metadata": {
        "colab": {
          "base_uri": "https://localhost:8080/"
        },
        "id": "eqwFtFjCSknB",
        "outputId": "ee3fb917-29ee-42a7-9d9f-f551b09e0b73"
      },
      "source": [
        "y_predict = model.predict(X_test)\n",
        "y_predict"
      ],
      "execution_count": 13,
      "outputs": [
        {
          "output_type": "execute_result",
          "data": {
            "text/plain": [
              "array([55.66666667, 72.66666667, 59.        , 70.66666667])"
            ]
          },
          "metadata": {
            "tags": []
          },
          "execution_count": 13
        }
      ]
    },
    {
      "cell_type": "markdown",
      "metadata": {
        "id": "OXAEJemtXKFP"
      },
      "source": [
        "###Metode Evaluasi Coefficient of Determination atau R2"
      ]
    },
    {
      "cell_type": "code",
      "metadata": {
        "colab": {
          "base_uri": "https://localhost:8080/"
        },
        "id": "E4ryF-5xSsyh",
        "outputId": "8ce5bc1c-dd09-444d-f4b5-05f03ea28bf9"
      },
      "source": [
        "from sklearn.metrics import r2_score\n",
        "\n",
        "r_squared = r2_score(y_test, y_predict)\n",
        "\n",
        "print(f'R-squared : {r_squared}')"
      ],
      "execution_count": 14,
      "outputs": [
        {
          "output_type": "stream",
          "text": [
            "R-squared : 0.32882011605415873\n"
          ],
          "name": "stdout"
        }
      ]
    },
    {
      "cell_type": "markdown",
      "metadata": {
        "id": "2rqrqJr9Xz0h"
      },
      "source": [
        "###Metode Evaluasi Mean Absolute Error (MAE) atau Mean Absolute Deviation (MAD)\n",
        "\n",
        "MAE is the average of the absolute values of the errors of the prediction"
      ]
    },
    {
      "cell_type": "code",
      "metadata": {
        "colab": {
          "base_uri": "https://localhost:8080/"
        },
        "id": "fFT8zM-1Xlz4",
        "outputId": "f6ea765b-71e1-4ad0-fd28-d6dd4fde6fa3"
      },
      "source": [
        "from sklearn.metrics import mean_absolute_error\n",
        "\n",
        "MAE = mean_absolute_error(y_test, y_predict)\n",
        "\n",
        "print(f'MAE : {MAE}')"
      ],
      "execution_count": 15,
      "outputs": [
        {
          "output_type": "stream",
          "text": [
            "MAE : 10.833333333333334\n"
          ],
          "name": "stdout"
        }
      ]
    },
    {
      "cell_type": "markdown",
      "metadata": {
        "id": "hAg-leD3YmXl"
      },
      "source": [
        "###Metode Evaluasi Mean Squared Error (MSE) atau Mean Squared Deviation (MSD)\n",
        "\n",
        "MSE is the average of the squares of the errors of the predictions"
      ]
    },
    {
      "cell_type": "code",
      "metadata": {
        "colab": {
          "base_uri": "https://localhost:8080/"
        },
        "id": "Z2U5KqU2YdCB",
        "outputId": "8ecb765f-6339-4872-efe5-f4b5561e95ff"
      },
      "source": [
        "from sklearn.metrics import mean_squared_error\n",
        "\n",
        "MSE = mean_squared_error(y_test, y_predict)\n",
        "\n",
        "print(f'MSE : {MSE}')"
      ],
      "execution_count": 16,
      "outputs": [
        {
          "output_type": "stream",
          "text": [
            "MSE : 173.49999999999997\n"
          ],
          "name": "stdout"
        }
      ]
    },
    {
      "cell_type": "markdown",
      "metadata": {
        "id": "-EsWUR-VaLEL"
      },
      "source": [
        "##Permasalahan Scalling pada Features\n",
        "\n",
        "Selanjutnya akan dipelajari apakah perbedaan satuan pengukuran yang digunakan akan berdampak pada konsistensi hasil yang didapat. Berikut akan dibandingkan hasil jika menggunakan perbedaan satuan pengukuran meter dan milimeter"
      ]
    },
    {
      "cell_type": "code",
      "metadata": {
        "colab": {
          "base_uri": "https://localhost:8080/"
        },
        "id": "UFVwT5f7ZBMw",
        "outputId": "06cf7bbb-b11e-4370-b629-26872a47d0a3"
      },
      "source": [
        " from scipy.spatial.distance import euclidean\n",
        "\n",
        "#  Tinggi dalam milimeter\n",
        "X_train = np.array([[1700, 0], [1600, 1]])\n",
        "X_new = np.array([[1640, 0]])\n",
        "\n",
        "[euclidean(X_new[0], d) for d in X_train]"
      ],
      "execution_count": 20,
      "outputs": [
        {
          "output_type": "execute_result",
          "data": {
            "text/plain": [
              "[60.0, 40.01249804748511]"
            ]
          },
          "metadata": {
            "tags": []
          },
          "execution_count": 20
        }
      ]
    },
    {
      "cell_type": "code",
      "metadata": {
        "colab": {
          "base_uri": "https://localhost:8080/"
        },
        "id": "HqeYC02wa14x",
        "outputId": "dc4c8c76-7b5c-4e20-860f-715d8736bdc1"
      },
      "source": [
        "#  Tinggi dalam meter\n",
        "X_train = np.array([[1.700, 0], [1.600, 1]])\n",
        "X_new = np.array([[1.640, 0]])\n",
        "\n",
        "[euclidean(X_new[0], d) for d in X_train]"
      ],
      "execution_count": 21,
      "outputs": [
        {
          "output_type": "execute_result",
          "data": {
            "text/plain": [
              "[0.06000000000000005, 1.0007996802557442]"
            ]
          },
          "metadata": {
            "tags": []
          },
          "execution_count": 21
        }
      ]
    },
    {
      "cell_type": "markdown",
      "metadata": {
        "id": "Iyct0tchbwwe"
      },
      "source": [
        "Pada perbandingan yang dilakukan di atas telah ditemukan ketidakkonsistenan hasil jika menggunakan satuan pengukuran yang berbeda meskipun menggunakan dataset yang sama"
      ]
    },
    {
      "cell_type": "markdown",
      "metadata": {
        "id": "g_G2rDxZcKki"
      },
      "source": [
        "##Menerapkan Standard Scaler (Standard Score atau Z-Score)\n",
        "\n",
        "Metode ini merupakan salah satu cara yang bisa dilakukan untuk mengatasi permasalahan scaling pada features. Standardize features by removing the mean and scaling to unit variance."
      ]
    },
    {
      "cell_type": "code",
      "metadata": {
        "id": "ds2-vuVybR3U"
      },
      "source": [
        "from sklearn.preprocessing import StandardScaler\n",
        "\n",
        "ss = StandardScaler()"
      ],
      "execution_count": 22,
      "outputs": []
    },
    {
      "cell_type": "code",
      "metadata": {
        "colab": {
          "base_uri": "https://localhost:8080/"
        },
        "id": "N_yBryw_c5a5",
        "outputId": "ca8176ac-5c6f-4c2d-a87c-cc3989c8c216"
      },
      "source": [
        "#  Tinggi dalam milimeter\n",
        "X_train = np.array([[1700, 0], [1600, 1]])\n",
        "X_train_scaled = ss.fit_transform(X_train)\n",
        "print(f'X_train_scaled : \\n{X_train_scaled}\\n')\n",
        "\n",
        "X_new = np.array([[1640, 0]])\n",
        "X_new_scaled = ss.fit_transform(X_new)\n",
        "print(f'X_new_scaled : \\n{X_new_scaled}\\n')\n",
        "\n",
        "jarak = [euclidean(X_new_scaled[0], d) for d in X_train_scaled]\n",
        "print(f'Jarak : {jarak}')"
      ],
      "execution_count": 24,
      "outputs": [
        {
          "output_type": "stream",
          "text": [
            "X_train_scaled : \n",
            "[[ 1. -1.]\n",
            " [-1.  1.]]\n",
            "\n",
            "X_new_scaled : \n",
            "[[0. 0.]]\n",
            "\n",
            "Jarak : [1.4142135623730951, 1.4142135623730951]\n"
          ],
          "name": "stdout"
        }
      ]
    },
    {
      "cell_type": "code",
      "metadata": {
        "colab": {
          "base_uri": "https://localhost:8080/"
        },
        "id": "HHXIdN5edbvE",
        "outputId": "0d333978-5c6c-4e57-bebd-ebe40709f61b"
      },
      "source": [
        "#  Tinggi dalam meter\n",
        "X_train = np.array([[1.700, 0], [1.600, 1]])\n",
        "X_train_scaled = ss.fit_transform(X_train)\n",
        "print(f'X_train_scaled : \\n{X_train_scaled}\\n')\n",
        "\n",
        "X_new = np.array([[1.640, 0]])\n",
        "X_new_scaled = ss.fit_transform(X_new)\n",
        "print(f'X_new_scaled : \\n{X_new_scaled}\\n')\n",
        "\n",
        "jarak = [euclidean(X_new_scaled[0], d) for d in X_train_scaled]\n",
        "print(f'Jarak : {jarak}')"
      ],
      "execution_count": 25,
      "outputs": [
        {
          "output_type": "stream",
          "text": [
            "X_train_scaled : \n",
            "[[ 1. -1.]\n",
            " [-1.  1.]]\n",
            "\n",
            "X_new_scaled : \n",
            "[[0. 0.]]\n",
            "\n",
            "Jarak : [1.4142135623730967, 1.4142135623730934]\n"
          ],
          "name": "stdout"
        }
      ]
    },
    {
      "cell_type": "markdown",
      "metadata": {
        "id": "ytxXsmtiecV9"
      },
      "source": [
        "##Menerapkan Features Scalling pada KNN"
      ]
    },
    {
      "cell_type": "markdown",
      "metadata": {
        "id": "8ExURIOnehDR"
      },
      "source": [
        "###Dataset"
      ]
    },
    {
      "cell_type": "code",
      "metadata": {
        "colab": {
          "base_uri": "https://localhost:8080/",
          "height": 328
        },
        "id": "AhU3Hdy_d0SE",
        "outputId": "bba728d0-ac19-4b16-ab25-ae7b4cff096a"
      },
      "source": [
        "sensus = {\n",
        "    'tinggi' : [158, 170, 183, 191, 155, 163, 180, 158, 178],\n",
        "    'jk' : ['pria', 'pria', 'pria', 'pria', 'wanita', 'wanita', 'wanita', 'wanita', 'wanita'],\n",
        "    'berat' : [64, 86, 84, 80, 49, 59, 67, 54, 67]\n",
        "}\n",
        "\n",
        "sensus_df = pd.DataFrame(sensus)\n",
        "sensus_df"
      ],
      "execution_count": 40,
      "outputs": [
        {
          "output_type": "execute_result",
          "data": {
            "text/html": [
              "<div>\n",
              "<style scoped>\n",
              "    .dataframe tbody tr th:only-of-type {\n",
              "        vertical-align: middle;\n",
              "    }\n",
              "\n",
              "    .dataframe tbody tr th {\n",
              "        vertical-align: top;\n",
              "    }\n",
              "\n",
              "    .dataframe thead th {\n",
              "        text-align: right;\n",
              "    }\n",
              "</style>\n",
              "<table border=\"1\" class=\"dataframe\">\n",
              "  <thead>\n",
              "    <tr style=\"text-align: right;\">\n",
              "      <th></th>\n",
              "      <th>tinggi</th>\n",
              "      <th>jk</th>\n",
              "      <th>berat</th>\n",
              "    </tr>\n",
              "  </thead>\n",
              "  <tbody>\n",
              "    <tr>\n",
              "      <th>0</th>\n",
              "      <td>158</td>\n",
              "      <td>pria</td>\n",
              "      <td>64</td>\n",
              "    </tr>\n",
              "    <tr>\n",
              "      <th>1</th>\n",
              "      <td>170</td>\n",
              "      <td>pria</td>\n",
              "      <td>86</td>\n",
              "    </tr>\n",
              "    <tr>\n",
              "      <th>2</th>\n",
              "      <td>183</td>\n",
              "      <td>pria</td>\n",
              "      <td>84</td>\n",
              "    </tr>\n",
              "    <tr>\n",
              "      <th>3</th>\n",
              "      <td>191</td>\n",
              "      <td>pria</td>\n",
              "      <td>80</td>\n",
              "    </tr>\n",
              "    <tr>\n",
              "      <th>4</th>\n",
              "      <td>155</td>\n",
              "      <td>wanita</td>\n",
              "      <td>49</td>\n",
              "    </tr>\n",
              "    <tr>\n",
              "      <th>5</th>\n",
              "      <td>163</td>\n",
              "      <td>wanita</td>\n",
              "      <td>59</td>\n",
              "    </tr>\n",
              "    <tr>\n",
              "      <th>6</th>\n",
              "      <td>180</td>\n",
              "      <td>wanita</td>\n",
              "      <td>67</td>\n",
              "    </tr>\n",
              "    <tr>\n",
              "      <th>7</th>\n",
              "      <td>158</td>\n",
              "      <td>wanita</td>\n",
              "      <td>54</td>\n",
              "    </tr>\n",
              "    <tr>\n",
              "      <th>8</th>\n",
              "      <td>178</td>\n",
              "      <td>wanita</td>\n",
              "      <td>67</td>\n",
              "    </tr>\n",
              "  </tbody>\n",
              "</table>\n",
              "</div>"
            ],
            "text/plain": [
              "   tinggi      jk  berat\n",
              "0     158    pria     64\n",
              "1     170    pria     86\n",
              "2     183    pria     84\n",
              "3     191    pria     80\n",
              "4     155  wanita     49\n",
              "5     163  wanita     59\n",
              "6     180  wanita     67\n",
              "7     158  wanita     54\n",
              "8     178  wanita     67"
            ]
          },
          "metadata": {
            "tags": []
          },
          "execution_count": 40
        }
      ]
    },
    {
      "cell_type": "markdown",
      "metadata": {
        "id": "9FCWteENe3CH"
      },
      "source": [
        "###Preprocess Dataset"
      ]
    },
    {
      "cell_type": "code",
      "metadata": {
        "colab": {
          "base_uri": "https://localhost:8080/"
        },
        "id": "IMD7RvaVeoWk",
        "outputId": "0f272d8c-eb73-48f4-b180-ed3a39af3f6f"
      },
      "source": [
        "X_train = np.array(sensus_df[['tinggi', 'jk']])\n",
        "y_train = np.array(sensus_df['berat'])\n",
        "\n",
        "print(f'X_train: \\n{X_train}\\n')\n",
        "print(f'y_train: {y_train}')"
      ],
      "execution_count": 41,
      "outputs": [
        {
          "output_type": "stream",
          "text": [
            "X_train: \n",
            "[[158 'pria']\n",
            " [170 'pria']\n",
            " [183 'pria']\n",
            " [191 'pria']\n",
            " [155 'wanita']\n",
            " [163 'wanita']\n",
            " [180 'wanita']\n",
            " [158 'wanita']\n",
            " [178 'wanita']]\n",
            "\n",
            "y_train: [64 86 84 80 49 59 67 54 67]\n"
          ],
          "name": "stdout"
        }
      ]
    },
    {
      "cell_type": "code",
      "metadata": {
        "colab": {
          "base_uri": "https://localhost:8080/"
        },
        "id": "f4ESi7Hue-Um",
        "outputId": "2e399e27-d525-4cf7-b4bf-91b154250bde"
      },
      "source": [
        "X_train_transpose = np.transpose(X_train)\n",
        "\n",
        "print(f'X_train: \\n{X_train}\\n')\n",
        "print(f'X_train: \\n{X_train_transpose}')\n",
        "\n",
        "lb = LabelBinarizer()\n",
        "jk_bin = lb.fit_transform(X_train_transpose[1])\n",
        "\n",
        "print(f'jk: {X_train_transpose[1]}\\n')\n",
        "print(f'jk_binarised: \\n{jk_bin}')\n",
        "\n",
        "jk_binarised = jk_bin.flatten()\n",
        "\n",
        "X_train_transpose[1] = jk_binarised\n",
        "X_train = X_train_transpose.transpose()\n",
        "\n",
        "print(f'X_train_transpose: \\n{X_train_transpose}\\n')\n",
        "print(f'X_train: \\n{X_train}')"
      ],
      "execution_count": 42,
      "outputs": [
        {
          "output_type": "stream",
          "text": [
            "X_train: \n",
            "[[158 'pria']\n",
            " [170 'pria']\n",
            " [183 'pria']\n",
            " [191 'pria']\n",
            " [155 'wanita']\n",
            " [163 'wanita']\n",
            " [180 'wanita']\n",
            " [158 'wanita']\n",
            " [178 'wanita']]\n",
            "\n",
            "X_train: \n",
            "[[158 170 183 191 155 163 180 158 178]\n",
            " ['pria' 'pria' 'pria' 'pria' 'wanita' 'wanita' 'wanita' 'wanita'\n",
            "  'wanita']]\n",
            "jk: ['pria' 'pria' 'pria' 'pria' 'wanita' 'wanita' 'wanita' 'wanita' 'wanita']\n",
            "\n",
            "jk_binarised: \n",
            "[[0]\n",
            " [0]\n",
            " [0]\n",
            " [0]\n",
            " [1]\n",
            " [1]\n",
            " [1]\n",
            " [1]\n",
            " [1]]\n",
            "X_train_transpose: \n",
            "[[158 170 183 191 155 163 180 158 178]\n",
            " [0 0 0 0 1 1 1 1 1]]\n",
            "\n",
            "X_train: \n",
            "[[158 0]\n",
            " [170 0]\n",
            " [183 0]\n",
            " [191 0]\n",
            " [155 1]\n",
            " [163 1]\n",
            " [180 1]\n",
            " [158 1]\n",
            " [178 1]]\n"
          ],
          "name": "stdout"
        }
      ]
    },
    {
      "cell_type": "code",
      "metadata": {
        "colab": {
          "base_uri": "https://localhost:8080/"
        },
        "id": "EbKIP5VhfP9K",
        "outputId": "f9025fbb-5e23-4191-a732-b58700fe6ed3"
      },
      "source": [
        "print(f'X_train: \\n{X_train}\\n')\n",
        "print(f'y_train: {y_train}')"
      ],
      "execution_count": 43,
      "outputs": [
        {
          "output_type": "stream",
          "text": [
            "X_train: \n",
            "[[158 0]\n",
            " [170 0]\n",
            " [183 0]\n",
            " [191 0]\n",
            " [155 1]\n",
            " [163 1]\n",
            " [180 1]\n",
            " [158 1]\n",
            " [178 1]]\n",
            "\n",
            "y_train: [64 86 84 80 49 59 67 54 67]\n"
          ],
          "name": "stdout"
        }
      ]
    },
    {
      "cell_type": "markdown",
      "metadata": {
        "id": "9DQTE8Unf0oZ"
      },
      "source": [
        "###Test Dataset"
      ]
    },
    {
      "cell_type": "code",
      "metadata": {
        "colab": {
          "base_uri": "https://localhost:8080/"
        },
        "id": "OdQubBi4f4i0",
        "outputId": "1853c473-d4ae-4ced-8f15-5e601a4b6459"
      },
      "source": [
        "X_test = np.array([[168, 0], [180,0], [160,1], [169,1]])\n",
        "y_test = np.array([65, 96, 52, 67])\n",
        "\n",
        "print(f'X_test : \\n{X_test}\\n')\n",
        "print(f'y_test : {y_test}')"
      ],
      "execution_count": 44,
      "outputs": [
        {
          "output_type": "stream",
          "text": [
            "X_test : \n",
            "[[168   0]\n",
            " [180   0]\n",
            " [160   1]\n",
            " [169   1]]\n",
            "\n",
            "y_test : [65 96 52 67]\n"
          ],
          "name": "stdout"
        }
      ]
    },
    {
      "cell_type": "markdown",
      "metadata": {
        "id": "IUnsC21sfhCa"
      },
      "source": [
        "###Feature Scalling dengan Standard Scaler"
      ]
    },
    {
      "cell_type": "code",
      "metadata": {
        "colab": {
          "base_uri": "https://localhost:8080/"
        },
        "id": "gO14sNcGfWwV",
        "outputId": "a2872d51-9e50-4c72-fc43-1d06e746cd96"
      },
      "source": [
        "X_train_scaled = ss.fit_transform(X_train)\n",
        "X_test_scaled = ss.fit_transform(X_test)\n",
        "\n",
        "print(f'X_train_scaled : \\n{X_train_scaled}\\n')\n",
        "print(f'X_test_scaled : \\n{X_test_scaled}\\n')"
      ],
      "execution_count": 45,
      "outputs": [
        {
          "output_type": "stream",
          "text": [
            "X_train_scaled : \n",
            "[[-1.04119359 -1.11803399]\n",
            " [-0.05479966 -1.11803399]\n",
            " [ 1.01379376 -1.11803399]\n",
            " [ 1.6713897  -1.11803399]\n",
            " [-1.28779207  0.89442719]\n",
            " [-0.63019612  0.89442719]\n",
            " [ 0.76719527  0.89442719]\n",
            " [-1.04119359  0.89442719]\n",
            " [ 0.60279629  0.89442719]]\n",
            "\n",
            "X_test_scaled : \n",
            "[[-0.17557375 -1.        ]\n",
            " [ 1.50993422 -1.        ]\n",
            " [-1.29924573  1.        ]\n",
            " [-0.03511475  1.        ]]\n",
            "\n"
          ],
          "name": "stdout"
        }
      ]
    },
    {
      "cell_type": "markdown",
      "metadata": {
        "id": "5gpjLNe0gX9o"
      },
      "source": [
        "###Training dan Evaluasi Model"
      ]
    },
    {
      "cell_type": "code",
      "metadata": {
        "colab": {
          "base_uri": "https://localhost:8080/"
        },
        "id": "M9qy60WugRce",
        "outputId": "cf2e35fc-3593-4455-be9c-b2abc96a238c"
      },
      "source": [
        "model.fit(X_train_scaled, y_train)\n",
        "y_pred = model.predict(X_test_scaled)\n",
        "\n",
        "MAE = mean_absolute_error(y_test, y_pred)\n",
        "MSE = mean_squared_error(y_test, y_pred)\n",
        "\n",
        "print(f'MAE : {MAE}')\n",
        "print(f'MSE : {MSE}')"
      ],
      "execution_count": 46,
      "outputs": [
        {
          "output_type": "stream",
          "text": [
            "MAE : 7.583333333333336\n",
            "MSE : 85.13888888888893\n"
          ],
          "name": "stdout"
        }
      ]
    },
    {
      "cell_type": "code",
      "metadata": {
        "id": "NRJLsqRzg9Et"
      },
      "source": [
        ""
      ],
      "execution_count": null,
      "outputs": []
    }
  ]
}