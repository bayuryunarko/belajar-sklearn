{
  "nbformat": 4,
  "nbformat_minor": 0,
  "metadata": {
    "colab": {
      "name": "5. TF-IDF.ipynb",
      "provenance": [],
      "collapsed_sections": [],
      "authorship_tag": "ABX9TyM0FywYFkLDGHvaYjVPTAeF",
      "include_colab_link": true
    },
    "kernelspec": {
      "name": "python3",
      "display_name": "Python 3"
    },
    "language_info": {
      "name": "python"
    }
  },
  "cells": [
    {
      "cell_type": "markdown",
      "metadata": {
        "id": "view-in-github",
        "colab_type": "text"
      },
      "source": [
        "<a href=\"https://colab.research.google.com/github/bayuryunarko/belajar-sklearn/blob/main/5_TF_IDF.ipynb\" target=\"_parent\"><img src=\"https://colab.research.google.com/assets/colab-badge.svg\" alt=\"Open In Colab\"/></a>"
      ]
    },
    {
      "cell_type": "markdown",
      "metadata": {
        "id": "J3LYuYhivnP7"
      },
      "source": [
        "#Latihan SKLearn dari channel Youtube \"Indonesia Belajar\""
      ]
    },
    {
      "cell_type": "markdown",
      "metadata": {
        "id": "TZSidZhKvrWo"
      },
      "source": [
        "##Mengenal TF-IDF (Term Frequency - Inverse Document Frequency)\n",
        "\n",
        "TF-IDF (Term Frequency - Inverse Document Frequency) merupakan salah satu metode statistik yang digunakan untuk mengukur seberapa penting suatu kata terhadap suatu dokumen tertentu dari sekumpulan dokumen atau corpus."
      ]
    },
    {
      "cell_type": "markdown",
      "metadata": {
        "id": "YYE8UwMIxJ9n"
      },
      "source": [
        "#Dataset"
      ]
    },
    {
      "cell_type": "code",
      "metadata": {
        "colab": {
          "base_uri": "https://localhost:8080/"
        },
        "id": "x-ObGAutvPXN",
        "outputId": "8653f6a9-48d2-42df-f084-88d07ba74299"
      },
      "source": [
        "corpus = [\n",
        "          'the house had a tiny little mouse',\n",
        "          'the cat saw the mouse',\n",
        "          'the mouse ran away from the house',\n",
        "          'the finally ate the mouse',\n",
        "          'the end of the mouse story'\n",
        "]\n",
        "corpus"
      ],
      "execution_count": 1,
      "outputs": [
        {
          "output_type": "execute_result",
          "data": {
            "text/plain": [
              "['the house had a tiny little mouse',\n",
              " 'the cat saw the mouse',\n",
              " 'the mouse ran away from the house',\n",
              " 'the finally ate the mouse',\n",
              " 'the end of the mouse story']"
            ]
          },
          "metadata": {
            "tags": []
          },
          "execution_count": 1
        }
      ]
    },
    {
      "cell_type": "markdown",
      "metadata": {
        "id": "1TLAeRZYx4HI"
      },
      "source": [
        "#TF-IDF Weight dengan TfidfVectorizer"
      ]
    },
    {
      "cell_type": "code",
      "metadata": {
        "id": "_wqPI9Mwxuqk"
      },
      "source": [
        "from sklearn.feature_extraction.text import TfidfVectorizer"
      ],
      "execution_count": 2,
      "outputs": []
    },
    {
      "cell_type": "code",
      "metadata": {
        "colab": {
          "base_uri": "https://localhost:8080/"
        },
        "id": "SIgL3U6ByFn7",
        "outputId": "68a9d8aa-24ed-40f2-d876-cfacf6a8e988"
      },
      "source": [
        "vectorizer = TfidfVectorizer(stop_words='english')\n",
        "response = vectorizer.fit_transform(corpus)\n",
        "print(response)"
      ],
      "execution_count": 3,
      "outputs": [
        {
          "output_type": "stream",
          "text": [
            "  (0, 7)\t0.2808823162882302\n",
            "  (0, 6)\t0.5894630806320427\n",
            "  (0, 11)\t0.5894630806320427\n",
            "  (0, 5)\t0.47557510189256375\n",
            "  (1, 9)\t0.6700917930430479\n",
            "  (1, 2)\t0.6700917930430479\n",
            "  (1, 7)\t0.3193023297639811\n",
            "  (2, 1)\t0.5894630806320427\n",
            "  (2, 8)\t0.5894630806320427\n",
            "  (2, 7)\t0.2808823162882302\n",
            "  (2, 5)\t0.47557510189256375\n",
            "  (3, 0)\t0.6700917930430479\n",
            "  (3, 4)\t0.6700917930430479\n",
            "  (3, 7)\t0.3193023297639811\n",
            "  (4, 10)\t0.6700917930430479\n",
            "  (4, 3)\t0.6700917930430479\n",
            "  (4, 7)\t0.3193023297639811\n"
          ],
          "name": "stdout"
        }
      ]
    },
    {
      "cell_type": "code",
      "metadata": {
        "colab": {
          "base_uri": "https://localhost:8080/"
        },
        "id": "SDrgYXC_yR04",
        "outputId": "871db4ab-9a64-4f46-a79e-7901378960f0"
      },
      "source": [
        "vectorizer.get_feature_names()"
      ],
      "execution_count": 4,
      "outputs": [
        {
          "output_type": "execute_result",
          "data": {
            "text/plain": [
              "['ate',\n",
              " 'away',\n",
              " 'cat',\n",
              " 'end',\n",
              " 'finally',\n",
              " 'house',\n",
              " 'little',\n",
              " 'mouse',\n",
              " 'ran',\n",
              " 'saw',\n",
              " 'story',\n",
              " 'tiny']"
            ]
          },
          "metadata": {
            "tags": []
          },
          "execution_count": 4
        }
      ]
    },
    {
      "cell_type": "code",
      "metadata": {
        "colab": {
          "base_uri": "https://localhost:8080/"
        },
        "id": "tCnuEpHtyVWW",
        "outputId": "293226d9-94b7-4b83-9ab2-99327ea86534"
      },
      "source": [
        "response.todense()"
      ],
      "execution_count": 5,
      "outputs": [
        {
          "output_type": "execute_result",
          "data": {
            "text/plain": [
              "matrix([[0.        , 0.        , 0.        , 0.        , 0.        ,\n",
              "         0.4755751 , 0.58946308, 0.28088232, 0.        , 0.        ,\n",
              "         0.        , 0.58946308],\n",
              "        [0.        , 0.        , 0.67009179, 0.        , 0.        ,\n",
              "         0.        , 0.        , 0.31930233, 0.        , 0.67009179,\n",
              "         0.        , 0.        ],\n",
              "        [0.        , 0.58946308, 0.        , 0.        , 0.        ,\n",
              "         0.4755751 , 0.        , 0.28088232, 0.58946308, 0.        ,\n",
              "         0.        , 0.        ],\n",
              "        [0.67009179, 0.        , 0.        , 0.        , 0.67009179,\n",
              "         0.        , 0.        , 0.31930233, 0.        , 0.        ,\n",
              "         0.        , 0.        ],\n",
              "        [0.        , 0.        , 0.        , 0.67009179, 0.        ,\n",
              "         0.        , 0.        , 0.31930233, 0.        , 0.        ,\n",
              "         0.67009179, 0.        ]])"
            ]
          },
          "metadata": {
            "tags": []
          },
          "execution_count": 5
        }
      ]
    },
    {
      "cell_type": "code",
      "metadata": {
        "id": "eCwhQt8fyYCo"
      },
      "source": [
        "import pandas as pd"
      ],
      "execution_count": 6,
      "outputs": []
    },
    {
      "cell_type": "code",
      "metadata": {
        "colab": {
          "base_uri": "https://localhost:8080/",
          "height": 421
        },
        "id": "koJOYjrryat2",
        "outputId": "af8c27ae-6ebf-470c-b1c5-2610843fc62f"
      },
      "source": [
        "df = pd.DataFrame(response.todense().T,\n",
        "                  index=vectorizer.get_feature_names(),\n",
        "                  columns=[f'D{i+1}' for i in range(len(corpus))])\n",
        "df"
      ],
      "execution_count": 7,
      "outputs": [
        {
          "output_type": "execute_result",
          "data": {
            "text/html": [
              "<div>\n",
              "<style scoped>\n",
              "    .dataframe tbody tr th:only-of-type {\n",
              "        vertical-align: middle;\n",
              "    }\n",
              "\n",
              "    .dataframe tbody tr th {\n",
              "        vertical-align: top;\n",
              "    }\n",
              "\n",
              "    .dataframe thead th {\n",
              "        text-align: right;\n",
              "    }\n",
              "</style>\n",
              "<table border=\"1\" class=\"dataframe\">\n",
              "  <thead>\n",
              "    <tr style=\"text-align: right;\">\n",
              "      <th></th>\n",
              "      <th>D1</th>\n",
              "      <th>D2</th>\n",
              "      <th>D3</th>\n",
              "      <th>D4</th>\n",
              "      <th>D5</th>\n",
              "    </tr>\n",
              "  </thead>\n",
              "  <tbody>\n",
              "    <tr>\n",
              "      <th>ate</th>\n",
              "      <td>0.000000</td>\n",
              "      <td>0.000000</td>\n",
              "      <td>0.000000</td>\n",
              "      <td>0.670092</td>\n",
              "      <td>0.000000</td>\n",
              "    </tr>\n",
              "    <tr>\n",
              "      <th>away</th>\n",
              "      <td>0.000000</td>\n",
              "      <td>0.000000</td>\n",
              "      <td>0.589463</td>\n",
              "      <td>0.000000</td>\n",
              "      <td>0.000000</td>\n",
              "    </tr>\n",
              "    <tr>\n",
              "      <th>cat</th>\n",
              "      <td>0.000000</td>\n",
              "      <td>0.670092</td>\n",
              "      <td>0.000000</td>\n",
              "      <td>0.000000</td>\n",
              "      <td>0.000000</td>\n",
              "    </tr>\n",
              "    <tr>\n",
              "      <th>end</th>\n",
              "      <td>0.000000</td>\n",
              "      <td>0.000000</td>\n",
              "      <td>0.000000</td>\n",
              "      <td>0.000000</td>\n",
              "      <td>0.670092</td>\n",
              "    </tr>\n",
              "    <tr>\n",
              "      <th>finally</th>\n",
              "      <td>0.000000</td>\n",
              "      <td>0.000000</td>\n",
              "      <td>0.000000</td>\n",
              "      <td>0.670092</td>\n",
              "      <td>0.000000</td>\n",
              "    </tr>\n",
              "    <tr>\n",
              "      <th>house</th>\n",
              "      <td>0.475575</td>\n",
              "      <td>0.000000</td>\n",
              "      <td>0.475575</td>\n",
              "      <td>0.000000</td>\n",
              "      <td>0.000000</td>\n",
              "    </tr>\n",
              "    <tr>\n",
              "      <th>little</th>\n",
              "      <td>0.589463</td>\n",
              "      <td>0.000000</td>\n",
              "      <td>0.000000</td>\n",
              "      <td>0.000000</td>\n",
              "      <td>0.000000</td>\n",
              "    </tr>\n",
              "    <tr>\n",
              "      <th>mouse</th>\n",
              "      <td>0.280882</td>\n",
              "      <td>0.319302</td>\n",
              "      <td>0.280882</td>\n",
              "      <td>0.319302</td>\n",
              "      <td>0.319302</td>\n",
              "    </tr>\n",
              "    <tr>\n",
              "      <th>ran</th>\n",
              "      <td>0.000000</td>\n",
              "      <td>0.000000</td>\n",
              "      <td>0.589463</td>\n",
              "      <td>0.000000</td>\n",
              "      <td>0.000000</td>\n",
              "    </tr>\n",
              "    <tr>\n",
              "      <th>saw</th>\n",
              "      <td>0.000000</td>\n",
              "      <td>0.670092</td>\n",
              "      <td>0.000000</td>\n",
              "      <td>0.000000</td>\n",
              "      <td>0.000000</td>\n",
              "    </tr>\n",
              "    <tr>\n",
              "      <th>story</th>\n",
              "      <td>0.000000</td>\n",
              "      <td>0.000000</td>\n",
              "      <td>0.000000</td>\n",
              "      <td>0.000000</td>\n",
              "      <td>0.670092</td>\n",
              "    </tr>\n",
              "    <tr>\n",
              "      <th>tiny</th>\n",
              "      <td>0.589463</td>\n",
              "      <td>0.000000</td>\n",
              "      <td>0.000000</td>\n",
              "      <td>0.000000</td>\n",
              "      <td>0.000000</td>\n",
              "    </tr>\n",
              "  </tbody>\n",
              "</table>\n",
              "</div>"
            ],
            "text/plain": [
              "               D1        D2        D3        D4        D5\n",
              "ate      0.000000  0.000000  0.000000  0.670092  0.000000\n",
              "away     0.000000  0.000000  0.589463  0.000000  0.000000\n",
              "cat      0.000000  0.670092  0.000000  0.000000  0.000000\n",
              "end      0.000000  0.000000  0.000000  0.000000  0.670092\n",
              "finally  0.000000  0.000000  0.000000  0.670092  0.000000\n",
              "house    0.475575  0.000000  0.475575  0.000000  0.000000\n",
              "little   0.589463  0.000000  0.000000  0.000000  0.000000\n",
              "mouse    0.280882  0.319302  0.280882  0.319302  0.319302\n",
              "ran      0.000000  0.000000  0.589463  0.000000  0.000000\n",
              "saw      0.000000  0.670092  0.000000  0.000000  0.000000\n",
              "story    0.000000  0.000000  0.000000  0.000000  0.670092\n",
              "tiny     0.589463  0.000000  0.000000  0.000000  0.000000"
            ]
          },
          "metadata": {
            "tags": []
          },
          "execution_count": 7
        }
      ]
    },
    {
      "cell_type": "code",
      "metadata": {
        "id": "g4-SIanKyw6V"
      },
      "source": [
        ""
      ],
      "execution_count": null,
      "outputs": []
    }
  ]
}