{
  "nbformat": 4,
  "nbformat_minor": 0,
  "metadata": {
    "colab": {
      "name": "6. Logistic Regression.ipynb",
      "provenance": [],
      "collapsed_sections": [],
      "authorship_tag": "ABX9TyOENRrizzWuK7dKtAE2GwvF"
    },
    "kernelspec": {
      "name": "python3",
      "display_name": "Python 3"
    },
    "language_info": {
      "name": "python"
    }
  },
  "cells": [
    {
      "cell_type": "markdown",
      "metadata": {
        "id": "UPVeF9XwMgED"
      },
      "source": [
        "#Latihan SKLearn dari channel Youtube \"Indonesia Belajar\""
      ]
    },
    {
      "cell_type": "markdown",
      "metadata": {
        "id": "oDJ6bGDKMsKh"
      },
      "source": [
        "##Logistic Regression pada Binary Classification Task"
      ]
    },
    {
      "cell_type": "markdown",
      "metadata": {
        "id": "veUA-LqnN40j"
      },
      "source": [
        "###Dataset : SMS Spam Collection Data Set"
      ]
    },
    {
      "cell_type": "code",
      "metadata": {
        "colab": {
          "base_uri": "https://localhost:8080/"
        },
        "id": "Jnwv6OHTPROq",
        "outputId": "e0d7a264-7d04-45ca-bdbe-b7d91e693db5"
      },
      "source": [
        "from google.colab import drive\n",
        "drive.mount('/content/drive')"
      ],
      "execution_count": 2,
      "outputs": [
        {
          "output_type": "stream",
          "text": [
            "Mounted at /content/drive\n"
          ],
          "name": "stdout"
        }
      ]
    },
    {
      "cell_type": "code",
      "metadata": {
        "id": "OTzznZjmL9Db"
      },
      "source": [
        "import pandas as pd"
      ],
      "execution_count": 3,
      "outputs": []
    },
    {
      "cell_type": "code",
      "metadata": {
        "colab": {
          "base_uri": "https://localhost:8080/",
          "height": 204
        },
        "id": "kShvZWa7N-QL",
        "outputId": "7996ffbd-9391-4fcc-d5ae-0757f0a0364e"
      },
      "source": [
        "df = pd.read_csv('/content/drive/My Drive/Colab Notebooks/data/SMSSpamCollection',\n",
        "                 sep='\\t',\n",
        "                 header=None,\n",
        "                 names=['label', 'sms'])\n",
        "df.head()"
      ],
      "execution_count": 6,
      "outputs": [
        {
          "output_type": "execute_result",
          "data": {
            "text/html": [
              "<div>\n",
              "<style scoped>\n",
              "    .dataframe tbody tr th:only-of-type {\n",
              "        vertical-align: middle;\n",
              "    }\n",
              "\n",
              "    .dataframe tbody tr th {\n",
              "        vertical-align: top;\n",
              "    }\n",
              "\n",
              "    .dataframe thead th {\n",
              "        text-align: right;\n",
              "    }\n",
              "</style>\n",
              "<table border=\"1\" class=\"dataframe\">\n",
              "  <thead>\n",
              "    <tr style=\"text-align: right;\">\n",
              "      <th></th>\n",
              "      <th>label</th>\n",
              "      <th>sms</th>\n",
              "    </tr>\n",
              "  </thead>\n",
              "  <tbody>\n",
              "    <tr>\n",
              "      <th>0</th>\n",
              "      <td>ham</td>\n",
              "      <td>Go until jurong point, crazy.. Available only ...</td>\n",
              "    </tr>\n",
              "    <tr>\n",
              "      <th>1</th>\n",
              "      <td>ham</td>\n",
              "      <td>Ok lar... Joking wif u oni...</td>\n",
              "    </tr>\n",
              "    <tr>\n",
              "      <th>2</th>\n",
              "      <td>spam</td>\n",
              "      <td>Free entry in 2 a wkly comp to win FA Cup fina...</td>\n",
              "    </tr>\n",
              "    <tr>\n",
              "      <th>3</th>\n",
              "      <td>ham</td>\n",
              "      <td>U dun say so early hor... U c already then say...</td>\n",
              "    </tr>\n",
              "    <tr>\n",
              "      <th>4</th>\n",
              "      <td>ham</td>\n",
              "      <td>Nah I don't think he goes to usf, he lives aro...</td>\n",
              "    </tr>\n",
              "  </tbody>\n",
              "</table>\n",
              "</div>"
            ],
            "text/plain": [
              "  label                                                sms\n",
              "0   ham  Go until jurong point, crazy.. Available only ...\n",
              "1   ham                      Ok lar... Joking wif u oni...\n",
              "2  spam  Free entry in 2 a wkly comp to win FA Cup fina...\n",
              "3   ham  U dun say so early hor... U c already then say...\n",
              "4   ham  Nah I don't think he goes to usf, he lives aro..."
            ]
          },
          "metadata": {
            "tags": []
          },
          "execution_count": 6
        }
      ]
    },
    {
      "cell_type": "code",
      "metadata": {
        "colab": {
          "base_uri": "https://localhost:8080/"
        },
        "id": "fzz9cq0nP5xw",
        "outputId": "7f44096a-a0ef-4642-d0a5-b64afad92167"
      },
      "source": [
        "df['label'].value_counts()\n",
        "# Kondisi ini disebut sebagai imbalance dataet"
      ],
      "execution_count": 8,
      "outputs": [
        {
          "output_type": "execute_result",
          "data": {
            "text/plain": [
              "ham     4825\n",
              "spam     747\n",
              "Name: label, dtype: int64"
            ]
          },
          "metadata": {
            "tags": []
          },
          "execution_count": 8
        }
      ]
    },
    {
      "cell_type": "markdown",
      "metadata": {
        "id": "NyrO8IWdRQlm"
      },
      "source": [
        "###Training dan Testing Dataset"
      ]
    },
    {
      "cell_type": "code",
      "metadata": {
        "id": "cuHJCQqJQZs2"
      },
      "source": [
        "from sklearn.preprocessing import LabelBinarizer"
      ],
      "execution_count": 9,
      "outputs": []
    },
    {
      "cell_type": "code",
      "metadata": {
        "colab": {
          "base_uri": "https://localhost:8080/"
        },
        "id": "_e5lUgb7RcOw",
        "outputId": "681d3ece-77cf-4918-f4de-5d19025abc55"
      },
      "source": [
        "X = df['sms'].values\n",
        "y = df['label'].values\n",
        "\n",
        "lb = LabelBinarizer()\n",
        "y = lb.fit_transform(y).ravel()\n",
        "lb.classes_"
      ],
      "execution_count": 10,
      "outputs": [
        {
          "output_type": "execute_result",
          "data": {
            "text/plain": [
              "array(['ham', 'spam'], dtype='<U4')"
            ]
          },
          "metadata": {
            "tags": []
          },
          "execution_count": 10
        }
      ]
    },
    {
      "cell_type": "code",
      "metadata": {
        "colab": {
          "base_uri": "https://localhost:8080/"
        },
        "id": "Ju26QlUoRqGd",
        "outputId": "15b98cb2-c29c-4e29-e2fb-79db6b800406"
      },
      "source": [
        "from sklearn.model_selection import train_test_split\n",
        "\n",
        "X_train, X_test, y_train, y_test = train_test_split(X, y, test_size=0.25, random_state=0)\n",
        "\n",
        "print(X_train, '\\n')\n",
        "print(y_train)"
      ],
      "execution_count": 14,
      "outputs": [
        {
          "output_type": "stream",
          "text": [
            "['Its going good...no problem..but still need little experience to understand american customer voice...'\n",
            " 'U have a secret admirer. REVEAL who thinks U R So special. Call 09065174042. To opt out Reply REVEAL STOP. 1.50 per msg recd. Cust care 07821230901'\n",
            " 'Ok...' ...\n",
            " \"For ur chance to win a £250 cash every wk TXT: ACTION to 80608. T's&C's www.movietrivia.tv custcare 08712405022, 1x150p/wk\"\n",
            " 'R U &SAM P IN EACHOTHER. IF WE MEET WE CAN GO 2 MY HOUSE'\n",
            " 'Mm feeling sleepy. today itself i shall get that dear'] \n",
            "\n",
            "[0 1 0 ... 1 0 0]\n"
          ],
          "name": "stdout"
        }
      ]
    },
    {
      "cell_type": "markdown",
      "metadata": {
        "id": "cMCf_Jd-Sky4"
      },
      "source": [
        "###Feature Extraction dengan TF-IDF\n",
        "\n",
        "Dilakukan proses ekstrasi fitur karena dataset yang dimiliki merupakan data teks"
      ]
    },
    {
      "cell_type": "code",
      "metadata": {
        "colab": {
          "base_uri": "https://localhost:8080/"
        },
        "id": "h5F1xuYXRrWc",
        "outputId": "d2653e79-d6d8-43ca-9d33-e9f37f018b66"
      },
      "source": [
        "from sklearn.feature_extraction.text import TfidfVectorizer\n",
        "\n",
        "vectorizer = TfidfVectorizer(stop_words='english')\n",
        "\n",
        "X_train_tfidf = vectorizer.fit_transform(X_train)\n",
        "X_test_tfidf = vectorizer.transform(X_test)\n",
        "\n",
        "print(X_train_tfidf)"
      ],
      "execution_count": 18,
      "outputs": [
        {
          "output_type": "stream",
          "text": [
            "  (0, 6903)\t0.3591386422223876\n",
            "  (0, 2006)\t0.2898082580285881\n",
            "  (0, 900)\t0.4114867709157148\n",
            "  (0, 6739)\t0.3546359942830148\n",
            "  (0, 2554)\t0.3825278811525034\n",
            "  (0, 3926)\t0.3126721340000456\n",
            "  (0, 4453)\t0.2297719954323795\n",
            "  (0, 5123)\t0.308974289326673\n",
            "  (0, 3007)\t0.21421364306658514\n",
            "  (0, 2997)\t0.23173982975834367\n",
            "  (1, 36)\t0.28902673040368515\n",
            "  (1, 1548)\t0.18167737976542422\n",
            "  (1, 2003)\t0.2711077935907125\n",
            "  (1, 5301)\t0.2711077935907125\n",
            "  (1, 4358)\t0.17341410292348694\n",
            "  (1, 532)\t0.20186022353306565\n",
            "  (1, 6131)\t0.16142609035094446\n",
            "  (1, 5394)\t0.16464655071448758\n",
            "  (1, 4677)\t0.24039776602646504\n",
            "  (1, 216)\t0.28902673040368515\n",
            "  (1, 6013)\t0.20089911182610476\n",
            "  (1, 6472)\t0.24039776602646504\n",
            "  (1, 5441)\t0.5009783758205715\n",
            "  (1, 799)\t0.25048918791028574\n",
            "  (1, 5642)\t0.24344998442301355\n",
            "  :\t:\n",
            "  (4176, 343)\t0.2811068572055718\n",
            "  (4176, 107)\t0.29968668460649284\n",
            "  (4176, 2004)\t0.25589560236817055\n",
            "  (4176, 4350)\t0.29968668460649284\n",
            "  (4176, 637)\t0.29968668460649284\n",
            "  (4176, 7114)\t0.4512018097459442\n",
            "  (4176, 365)\t0.2388005587702937\n",
            "  (4176, 1612)\t0.21138425595332702\n",
            "  (4176, 779)\t0.2811068572055718\n",
            "  (4176, 7195)\t0.17892283441772988\n",
            "  (4176, 1569)\t0.18895085073406012\n",
            "  (4176, 7083)\t0.19523751585154273\n",
            "  (4176, 6684)\t0.22114159453800114\n",
            "  (4176, 6693)\t0.16491299289150899\n",
            "  (4176, 6792)\t0.1407604617250961\n",
            "  (4177, 2362)\t0.6158854885899457\n",
            "  (4177, 5565)\t0.5506066649743346\n",
            "  (4177, 4177)\t0.3636187667918345\n",
            "  (4177, 3319)\t0.43046342221720785\n",
            "  (4178, 5883)\t0.548491137555895\n",
            "  (4178, 4279)\t0.4530624713751054\n",
            "  (4178, 5720)\t0.3963527249882828\n",
            "  (4178, 6555)\t0.2897850627168302\n",
            "  (4178, 2641)\t0.3993042639531407\n",
            "  (4178, 2068)\t0.3055766821331892\n"
          ],
          "name": "stdout"
        }
      ]
    },
    {
      "cell_type": "markdown",
      "metadata": {
        "id": "25UFtLN2TYg-"
      },
      "source": [
        "###Binary Classification dengan Logistic Regression"
      ]
    },
    {
      "cell_type": "code",
      "metadata": {
        "colab": {
          "base_uri": "https://localhost:8080/"
        },
        "id": "nkqD_imETDDj",
        "outputId": "f4091c23-e662-4a8e-d5f1-b52b6fecac33"
      },
      "source": [
        "from sklearn.linear_model import LogisticRegression\n",
        "\n",
        "model = LogisticRegression()\n",
        "model.fit(X_train_tfidf, y_train)\n",
        "y_pred = model.predict(X_test_tfidf)\n",
        "\n",
        "for pred, sms in zip(y_pred[:5], X_test[:5]):\n",
        "  print(f'PRED : {pred} - SMS : {sms}\\n')"
      ],
      "execution_count": 19,
      "outputs": [
        {
          "output_type": "stream",
          "text": [
            "PRED : 0 - SMS : Storming msg: Wen u lift d phne, u say \"HELLO\" Do u knw wt is d real meaning of HELLO?? . . . It's d name of a girl..! . . . Yes.. And u knw who is dat girl?? \"Margaret Hello\" She is d girlfrnd f Grahmbell who invnted telphone... . . . . Moral:One can 4get d name of a person, bt not his girlfrnd... G o o d n i g h t . . .@\n",
            "\n",
            "PRED : 0 - SMS : <Forwarded from 448712404000>Please CALL 08712404000 immediately as there is an urgent message waiting for you.\n",
            "\n",
            "PRED : 0 - SMS : And also I've sorta blown him off a couple times recently so id rather not text him out of the blue looking for weed\n",
            "\n",
            "PRED : 0 - SMS : Sir Goodmorning, Once free call me.\n",
            "\n",
            "PRED : 0 - SMS : All will come alive.better correct any good looking figure there itself..\n",
            "\n"
          ],
          "name": "stdout"
        }
      ]
    },
    {
      "cell_type": "markdown",
      "metadata": {
        "id": "jnqLw5YeVOZP"
      },
      "source": [
        "###Evaluation Metrics pada Binary Classification\n",
        "\n",
        "- Confusion Matrix\n",
        "- Accuracy\n",
        "- Precission dan Recall\n",
        "- F1 Score\n",
        "- ROC"
      ]
    },
    {
      "cell_type": "markdown",
      "metadata": {
        "id": "foUtMol3VlQ_"
      },
      "source": [
        "1. Confusion Matrix\n",
        "\n",
        "Confusion Matrix seringkali dikenal sebagai error matrix"
      ]
    },
    {
      "cell_type": "code",
      "metadata": {
        "colab": {
          "base_uri": "https://localhost:8080/"
        },
        "id": "rX-haR4GT-LS",
        "outputId": "bee5f777-3581-4fbd-aa0c-c16e72d00a0e"
      },
      "source": [
        "from sklearn.metrics import confusion_matrix\n",
        "\n",
        "matrix = confusion_matrix(y_test, y_pred)\n",
        "matrix"
      ],
      "execution_count": 20,
      "outputs": [
        {
          "output_type": "execute_result",
          "data": {
            "text/plain": [
              "array([[1207,    1],\n",
              "       [  48,  137]])"
            ]
          },
          "metadata": {
            "tags": []
          },
          "execution_count": 20
        }
      ]
    },
    {
      "cell_type": "code",
      "metadata": {
        "colab": {
          "base_uri": "https://localhost:8080/"
        },
        "id": "xmbdpuXAV_u8",
        "outputId": "1c1c8005-392e-44a3-db9c-2e7fd50e514a"
      },
      "source": [
        "tn, fp, fn, tp = matrix.ravel()\n",
        "\n",
        "print(f'TN : {tn}')\n",
        "print(f'FP : {fp}')\n",
        "print(f'FN : {fn}')\n",
        "print(f'TP : {tp}')"
      ],
      "execution_count": 21,
      "outputs": [
        {
          "output_type": "stream",
          "text": [
            "TN : 1207\n",
            "FP : 1\n",
            "FN : 48\n",
            "TP : 137\n"
          ],
          "name": "stdout"
        }
      ]
    },
    {
      "cell_type": "code",
      "metadata": {
        "colab": {
          "base_uri": "https://localhost:8080/",
          "height": 275
        },
        "id": "SXjfJyrsWPSp",
        "outputId": "61cce713-9162-4098-a406-ec48f10d056c"
      },
      "source": [
        "import matplotlib.pyplot as plt\n",
        "\n",
        "plt.matshow(matrix)\n",
        "plt.colorbar()\n",
        "\n",
        "plt.title('Confusion Matrix \\n')\n",
        "plt.ylabel('True Label')\n",
        "plt.xlabel('\\n Predicted Label')\n",
        "plt.show()"
      ],
      "execution_count": 24,
      "outputs": [
        {
          "output_type": "display_data",
          "data": {
            "image/png": "[encoded data removed]",
            "text/plain": [
              "<Figure size 288x288 with 2 Axes>"
            ]
          },
          "metadata": {
            "tags": [],
            "needs_background": "light"
          }
        }
      ]
    },
    {
      "cell_type": "markdown",
      "metadata": {
        "id": "PgJiTKk6XCZV"
      },
      "source": [
        "2. Accuracy\n",
        "\n",
        "Accuracy mengukur porsi dari hasil prediksi yang tepat"
      ]
    },
    {
      "cell_type": "code",
      "metadata": {
        "colab": {
          "base_uri": "https://localhost:8080/"
        },
        "id": "I873QSRZWmNR",
        "outputId": "1c943c84-80ec-485f-d943-3a4b428f9fb6"
      },
      "source": [
        "from sklearn.metrics import accuracy_score\n",
        "\n",
        "acc = accuracy_score(y_test, y_pred)\n",
        "\n",
        "print(f'Accuracy Score : {acc}')"
      ],
      "execution_count": 25,
      "outputs": [
        {
          "output_type": "stream",
          "text": [
            "Accuracy Score : 0.964824120603015\n"
          ],
          "name": "stdout"
        }
      ]
    },
    {
      "cell_type": "markdown",
      "metadata": {
        "id": "BNYujXdiXZsX"
      },
      "source": [
        "3. Precission dan Recall\n",
        "\n",
        "Selain menggunakan accuracy, performa dari suatu classifier umumnya juga diukur berdasarkan nilai Precission dan Recall."
      ]
    },
    {
      "cell_type": "markdown",
      "metadata": {
        "id": "PNvCGNWhX4tM"
      },
      "source": [
        "*Precission atau Positive Predictive Value (PPV)*"
      ]
    },
    {
      "cell_type": "code",
      "metadata": {
        "colab": {
          "base_uri": "https://localhost:8080/"
        },
        "id": "1zTb0srHXPfN",
        "outputId": "a99d2e3b-6e04-4690-b987-b655d68ea11f"
      },
      "source": [
        "from sklearn.metrics import precision_score\n",
        "\n",
        "pre = precision_score(y_test, y_pred)\n",
        "\n",
        "print(f'Precission Score : {pre}')"
      ],
      "execution_count": 26,
      "outputs": [
        {
          "output_type": "stream",
          "text": [
            "Precission Score : 0.9927536231884058\n"
          ],
          "name": "stdout"
        }
      ]
    },
    {
      "cell_type": "markdown",
      "metadata": {
        "id": "Wu0TRPuPX-Ap"
      },
      "source": [
        "*Recall atau True Positive Rate (TPR) atau Sensitivity*"
      ]
    },
    {
      "cell_type": "code",
      "metadata": {
        "colab": {
          "base_uri": "https://localhost:8080/"
        },
        "id": "sxVO_mbDX9Jy",
        "outputId": "4015d925-3150-4f2f-c222-f650e4761161"
      },
      "source": [
        "from sklearn.metrics import recall_score\n",
        "\n",
        "rec = recall_score(y_test, y_pred)\n",
        "\n",
        "print(f'Recall Score : {pre}')"
      ],
      "execution_count": 28,
      "outputs": [
        {
          "output_type": "stream",
          "text": [
            "Recall Score : 0.9927536231884058\n"
          ],
          "name": "stdout"
        }
      ]
    },
    {
      "cell_type": "markdown",
      "metadata": {
        "id": "wyD8NDS1YRDI"
      },
      "source": [
        "4. F1-Score\n",
        "\n",
        "F1-Score atau F1-Measure adalah harmonic mean dari precission dan recall"
      ]
    },
    {
      "cell_type": "code",
      "metadata": {
        "colab": {
          "base_uri": "https://localhost:8080/"
        },
        "id": "ct_REJHpYIdo",
        "outputId": "bb2142c4-1d43-4e20-ec10-6c7f45618ddf"
      },
      "source": [
        "from sklearn.metrics import f1_score\n",
        "\n",
        "f1 = f1_score(y_test, y_pred)\n",
        "\n",
        "print(f'F1 Score : {f1}')"
      ],
      "execution_count": 29,
      "outputs": [
        {
          "output_type": "stream",
          "text": [
            "F1 Score : 0.8482972136222909\n"
          ],
          "name": "stdout"
        }
      ]
    },
    {
      "cell_type": "markdown",
      "metadata": {
        "id": "14uLXavHYeeq"
      },
      "source": [
        "5. ROC : Receiver Operating Characteristic\n",
        "\n",
        "ROC menawarkan visualisasi terhadap performa classifier dengan membandingkan nilai Recall (TPR) dan nilai Fallout (FPR)."
      ]
    },
    {
      "cell_type": "code",
      "metadata": {
        "colab": {
          "base_uri": "https://localhost:8080/",
          "height": 295
        },
        "id": "CZJugZe3YbhC",
        "outputId": "e59ef7b7-175f-40a9-d8b9-6235bcf10840"
      },
      "source": [
        "from sklearn.metrics import roc_curve, auc\n",
        "\n",
        "prob_estimates = model.predict_proba(X_test_tfidf)\n",
        "\n",
        "fpr, tpr, threshhold = roc_curve(y_test, prob_estimates[:,1])\n",
        "nilai_auc = auc(fpr, tpr)\n",
        "\n",
        "plt.plot(fpr, tpr, 'b', label=f'AUC={nilai_auc}')\n",
        "plt.plot([0,1], [0,1], 'r--', label='Random Classifier')\n",
        "\n",
        "plt.title('ROC: Receiver Operating Characteristic')\n",
        "plt.ylabel('Fallout (False Positive Rate).')\n",
        "plt.xlabel('Recall (True Positive Rate)')\n",
        "plt.legend()\n",
        "plt.show()"
      ],
      "execution_count": 32,
      "outputs": [
        {
          "output_type": "display_data",
          "data": {
            "image/png": "[encoded data removed]",
            "text/plain": [
              "<Figure size 432x288 with 1 Axes>"
            ]
          },
          "metadata": {
            "tags": [],
            "needs_background": "light"
          }
        }
      ]
    },
    {
      "cell_type": "code",
      "metadata": {
        "id": "1FkNwrNBZt1M"
      },
      "source": [
        ""
      ],
      "execution_count": null,
      "outputs": []
    }
  ]
}