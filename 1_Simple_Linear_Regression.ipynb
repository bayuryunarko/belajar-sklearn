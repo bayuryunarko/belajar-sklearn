{
  "nbformat": 4,
  "nbformat_minor": 0,
  "metadata": {
    "colab": {
      "name": "1. Simple Linear Regression.ipynb",
      "provenance": [],
      "collapsed_sections": [],
      "authorship_tag": "ABX9TyNQ026zoJmrBwYLiubMjafD",
      "include_colab_link": true
    },
    "kernelspec": {
      "name": "python3",
      "display_name": "Python 3"
    },
    "language_info": {
      "name": "python"
    },
    "accelerator": "GPU"
  },
  "cells": [
    {
      "cell_type": "markdown",
      "metadata": {
        "id": "view-in-github",
        "colab_type": "text"
      },
      "source": [
        "<a href=\"https://colab.research.google.com/github/bayuryunarko/belajar-sklearn/blob/main/1_Simple_Linear_Regression.ipynb\" target=\"_parent\"><img src=\"https://colab.research.google.com/assets/colab-badge.svg\" alt=\"Open In Colab\"/></a>"
      ]
    },
    {
      "cell_type": "markdown",
      "metadata": {
        "id": "enKUwKXYRmkp"
      },
      "source": [
        "#Latihan SKLearn dari channel Youtube \"Indonesia Belajar\""
      ]
    },
    {
      "cell_type": "markdown",
      "metadata": {
        "id": "44sSjRWvR4Nz"
      },
      "source": [
        "##Simple Linear Regression\n",
        "\n",
        "Simple Linear Regression memodelkan hubungan antarasebuah response variable dengan sebuah explanatory variable sebagai suatu garis lurus (linear)"
      ]
    },
    {
      "cell_type": "markdown",
      "metadata": {
        "id": "UCkVr82tSf4n"
      },
      "source": [
        "## Sample Dataset\n",
        "\n"
      ]
    },
    {
      "cell_type": "code",
      "metadata": {
        "colab": {
          "base_uri": "https://localhost:8080/",
          "height": 204
        },
        "id": "hC80kiglRhbD",
        "outputId": "3474a0de-2386-4e70-8f39-00a9926ccf7c"
      },
      "source": [
        "import pandas as pd\n",
        "\n",
        "pizza = {'diameter': [6,8,10,14,18],\n",
        "         'harga': [7,9,13,17.5, 18]}\n",
        "pizza_df = pd.DataFrame(pizza)\n",
        "pizza_df"
      ],
      "execution_count": 5,
      "outputs": [
        {
          "output_type": "execute_result",
          "data": {
            "text/html": [
              "<div>\n",
              "<style scoped>\n",
              "    .dataframe tbody tr th:only-of-type {\n",
              "        vertical-align: middle;\n",
              "    }\n",
              "\n",
              "    .dataframe tbody tr th {\n",
              "        vertical-align: top;\n",
              "    }\n",
              "\n",
              "    .dataframe thead th {\n",
              "        text-align: right;\n",
              "    }\n",
              "</style>\n",
              "<table border=\"1\" class=\"dataframe\">\n",
              "  <thead>\n",
              "    <tr style=\"text-align: right;\">\n",
              "      <th></th>\n",
              "      <th>diameter</th>\n",
              "      <th>harga</th>\n",
              "    </tr>\n",
              "  </thead>\n",
              "  <tbody>\n",
              "    <tr>\n",
              "      <th>0</th>\n",
              "      <td>6</td>\n",
              "      <td>7.0</td>\n",
              "    </tr>\n",
              "    <tr>\n",
              "      <th>1</th>\n",
              "      <td>8</td>\n",
              "      <td>9.0</td>\n",
              "    </tr>\n",
              "    <tr>\n",
              "      <th>2</th>\n",
              "      <td>10</td>\n",
              "      <td>13.0</td>\n",
              "    </tr>\n",
              "    <tr>\n",
              "      <th>3</th>\n",
              "      <td>14</td>\n",
              "      <td>17.5</td>\n",
              "    </tr>\n",
              "    <tr>\n",
              "      <th>4</th>\n",
              "      <td>18</td>\n",
              "      <td>18.0</td>\n",
              "    </tr>\n",
              "  </tbody>\n",
              "</table>\n",
              "</div>"
            ],
            "text/plain": [
              "   diameter  harga\n",
              "0         6    7.0\n",
              "1         8    9.0\n",
              "2        10   13.0\n",
              "3        14   17.5\n",
              "4        18   18.0"
            ]
          },
          "metadata": {
            "tags": []
          },
          "execution_count": 5
        }
      ]
    },
    {
      "cell_type": "markdown",
      "metadata": {
        "id": "6mbl6rsHTQG5"
      },
      "source": [
        "## Visualisasi Data"
      ]
    },
    {
      "cell_type": "code",
      "metadata": {
        "colab": {
          "base_uri": "https://localhost:8080/",
          "height": 283
        },
        "id": "g5hqDqhZS56h",
        "outputId": "7308046f-19eb-48db-80ff-7a38897e6eb4"
      },
      "source": [
        "import matplotlib.pyplot as plt\n",
        "\n",
        "pizza_df.plot(kind='scatter', x='diameter', y='harga')\n",
        "plt.xlabel('Diameter(inch)')\n",
        "plt.ylabel('Harga')\n",
        "plt.xlim(0,25)\n",
        "plt.ylim(0,25)\n",
        "plt.grid(True)\n",
        "plt.show()"
      ],
      "execution_count": 6,
      "outputs": [
        {
          "output_type": "display_data",
          "data": {
            "image/png": "[encoded data removed]",
            "text/plain": [
              "<Figure size 432x288 with 1 Axes>"
            ]
          },
          "metadata": {
            "tags": [],
            "needs_background": "light"
          }
        }
      ]
    },
    {
      "cell_type": "markdown",
      "metadata": {
        "id": "m0rhel6LU9l2"
      },
      "source": [
        "## Penyesuaian Dataset"
      ]
    },
    {
      "cell_type": "code",
      "metadata": {
        "colab": {
          "base_uri": "https://localhost:8080/"
        },
        "id": "hBOa1YpYVDDr",
        "outputId": "0bdfa1a7-9c03-4440-b3ac-70b099b13fdc"
      },
      "source": [
        "import numpy as np\n",
        "\n",
        "X = np.array(pizza_df['diameter']) #feature\n",
        "y = np.array(pizza_df['harga']) #target\n",
        "\n",
        "print(f'X: {X}')\n",
        "print(f'y: {y}')"
      ],
      "execution_count": 12,
      "outputs": [
        {
          "output_type": "stream",
          "text": [
            "X: [ 6  8 10 14 18]\n",
            "y: [ 7.   9.  13.  17.5 18. ]\n"
          ],
          "name": "stdout"
        }
      ]
    },
    {
      "cell_type": "code",
      "metadata": {
        "colab": {
          "base_uri": "https://localhost:8080/"
        },
        "id": "jtAquK0XVWqz",
        "outputId": "c44f9896-d7e8-45df-e752-a8a45fec0b1a"
      },
      "source": [
        "# Model ML yang disertakan pada SKLearn membutuhkan input data feature berupa array 2 dimensi\n",
        "X = X.reshape(-1,1)\n",
        "X.shape"
      ],
      "execution_count": 13,
      "outputs": [
        {
          "output_type": "execute_result",
          "data": {
            "text/plain": [
              "(5, 1)"
            ]
          },
          "metadata": {
            "tags": []
          },
          "execution_count": 13
        }
      ]
    },
    {
      "cell_type": "code",
      "metadata": {
        "colab": {
          "base_uri": "https://localhost:8080/"
        },
        "id": "BRzCBdN7VfO7",
        "outputId": "4b4f4f5a-1258-4f54-e7ea-cab61f8d6327"
      },
      "source": [
        "X"
      ],
      "execution_count": 14,
      "outputs": [
        {
          "output_type": "execute_result",
          "data": {
            "text/plain": [
              "array([[ 6],\n",
              "       [ 8],\n",
              "       [10],\n",
              "       [14],\n",
              "       [18]])"
            ]
          },
          "metadata": {
            "tags": []
          },
          "execution_count": 14
        }
      ]
    },
    {
      "cell_type": "markdown",
      "metadata": {
        "id": "7Cf2zIU2WXQi"
      },
      "source": [
        "## Training Simple Linear Regression Model"
      ]
    },
    {
      "cell_type": "code",
      "metadata": {
        "colab": {
          "base_uri": "https://localhost:8080/"
        },
        "id": "wwzN5BG4VgDN",
        "outputId": "f31af9d7-bc23-4428-d902-b6fa39b7d439"
      },
      "source": [
        "from sklearn.linear_model import LinearRegression\n",
        "\n",
        "model = LinearRegression()\n",
        "model.fit(X, y)"
      ],
      "execution_count": 15,
      "outputs": [
        {
          "output_type": "execute_result",
          "data": {
            "text/plain": [
              "LinearRegression(copy_X=True, fit_intercept=True, n_jobs=None, normalize=False)"
            ]
          },
          "metadata": {
            "tags": []
          },
          "execution_count": 15
        }
      ]
    },
    {
      "cell_type": "markdown",
      "metadata": {
        "id": "lBbgAQ34XJKI"
      },
      "source": [
        "## Visualisasi Simple Linear Regression Model"
      ]
    },
    {
      "cell_type": "code",
      "metadata": {
        "id": "9Xw0lJoVWqdV"
      },
      "source": [
        "X_vis = np.array([0,25]).reshape(-1,1)\n",
        "y_vis = model.predict(X_vis)"
      ],
      "execution_count": 17,
      "outputs": []
    },
    {
      "cell_type": "code",
      "metadata": {
        "colab": {
          "base_uri": "https://localhost:8080/",
          "height": 295
        },
        "id": "pTC1CFHrXXFn",
        "outputId": "59015116-379c-4d70-983b-b647f790b3c8"
      },
      "source": [
        "plt.scatter(X, y)\n",
        "plt.plot(X_vis, y_vis, '-r')\n",
        "\n",
        "plt.title('Perbandingan Diameter dan Harga Pizza')\n",
        "plt.xlabel('Diameter(inch)')\n",
        "plt.ylabel('Harga')\n",
        "plt.xlim(0,25)\n",
        "plt.ylim(0,25)\n",
        "plt.grid(True)\n",
        "plt.show()"
      ],
      "execution_count": 18,
      "outputs": [
        {
          "output_type": "display_data",
          "data": {
            "image/png": "[encoded data removed]",
            "text/plain": [
              "<Figure size 432x288 with 1 Axes>"
            ]
          },
          "metadata": {
            "tags": [],
            "needs_background": "light"
          }
        }
      ]
    },
    {
      "cell_type": "markdown",
      "metadata": {
        "id": "zMazIn6qYCpA"
      },
      "source": [
        "## Formula Linear Regression"
      ]
    },
    {
      "cell_type": "code",
      "metadata": {
        "colab": {
          "base_uri": "https://localhost:8080/"
        },
        "id": "jtiIGVprXq_1",
        "outputId": "9a3099b1-6a2b-4f82-e6af-17894aa10804"
      },
      "source": [
        "print(f'intercept : {model.intercept_}') #konstanta\n",
        "print(f'slope : {model.coef_}') #koefisien"
      ],
      "execution_count": 20,
      "outputs": [
        {
          "output_type": "stream",
          "text": [
            "intercept : 1.965517241379315\n",
            "slope : [0.9762931]\n"
          ],
          "name": "stdout"
        }
      ]
    },
    {
      "cell_type": "markdown",
      "metadata": {
        "id": "zpxFBFuxY8Tz"
      },
      "source": [
        "## Mencari Nilai Slope"
      ]
    },
    {
      "cell_type": "code",
      "metadata": {
        "colab": {
          "base_uri": "https://localhost:8080/"
        },
        "id": "skco56YnYTR9",
        "outputId": "b2c056c3-c519-456b-8ee6-9d590c3fc1a0"
      },
      "source": [
        "print(f'X: \\n{X}\\n')\n",
        "print(f'X bentuk awal : {X.flatten()}\\n')\n",
        "print(f'y : {y}')"
      ],
      "execution_count": 22,
      "outputs": [
        {
          "output_type": "stream",
          "text": [
            "X: \n",
            "[[ 6]\n",
            " [ 8]\n",
            " [10]\n",
            " [14]\n",
            " [18]]\n",
            "\n",
            "X bentuk awal : [ 6  8 10 14 18]\n",
            "\n",
            "y : [ 7.   9.  13.  17.5 18. ]\n"
          ],
          "name": "stdout"
        }
      ]
    },
    {
      "cell_type": "code",
      "metadata": {
        "colab": {
          "base_uri": "https://localhost:8080/"
        },
        "id": "E2JDVESrZaXl",
        "outputId": "06e04f62-b0d9-4fe4-da42-170ad9ce9c53"
      },
      "source": [
        "## VARIANCE\n",
        "\n",
        "var_x = np.var(X.flatten(), ddof=1)\n",
        "print(f'Variance X = {var_x}')"
      ],
      "execution_count": 23,
      "outputs": [
        {
          "output_type": "stream",
          "text": [
            "Variance X = 23.2\n"
          ],
          "name": "stdout"
        }
      ]
    },
    {
      "cell_type": "code",
      "metadata": {
        "colab": {
          "base_uri": "https://localhost:8080/"
        },
        "id": "062nv8n_ZzHI",
        "outputId": "e6632a94-496f-401d-d3e4-ebe825663116"
      },
      "source": [
        "## COVARIANCE\n",
        "\n",
        "np.cov(X.flatten(), y)"
      ],
      "execution_count": 24,
      "outputs": [
        {
          "output_type": "execute_result",
          "data": {
            "text/plain": [
              "array([[23.2 , 22.65],\n",
              "       [22.65, 24.3 ]])"
            ]
          },
          "metadata": {
            "tags": []
          },
          "execution_count": 24
        }
      ]
    },
    {
      "cell_type": "code",
      "metadata": {
        "colab": {
          "base_uri": "https://localhost:8080/"
        },
        "id": "hAHv7TmUaC-e",
        "outputId": "649ba705-f4c4-439f-9d8c-51473143d47a"
      },
      "source": [
        "cov_xy = np.cov(X.flatten(), y)[0][1]\n",
        "print(f'Covariance xy: {cov_xy}')"
      ],
      "execution_count": 29,
      "outputs": [
        {
          "output_type": "stream",
          "text": [
            "Covariance xy: 22.650000000000002\n"
          ],
          "name": "stdout"
        }
      ]
    },
    {
      "cell_type": "code",
      "metadata": {
        "colab": {
          "base_uri": "https://localhost:8080/"
        },
        "id": "6YJiRQwYaNR2",
        "outputId": "f471c12e-0e09-4027-9c9a-3109a937af91"
      },
      "source": [
        "## SLOPE\n",
        "\n",
        "slope = cov_xy/var_x\n",
        "print(f'Nilai Slope : {slope}')"
      ],
      "execution_count": 30,
      "outputs": [
        {
          "output_type": "stream",
          "text": [
            "Nilai Slope : 0.976293103448276\n"
          ],
          "name": "stdout"
        }
      ]
    },
    {
      "cell_type": "markdown",
      "metadata": {
        "id": "sKGuOfw-bQFR"
      },
      "source": [
        "## Mencari Nilai Intercept"
      ]
    },
    {
      "cell_type": "code",
      "metadata": {
        "colab": {
          "base_uri": "https://localhost:8080/"
        },
        "id": "5D6ViQqgaZkU",
        "outputId": "a4faa008-51fa-4f34-9bc3-3a0292161168"
      },
      "source": [
        "intercept = np.mean(y) - slope * np.mean(X)\n",
        "print(f'Intercept : {intercept}')"
      ],
      "execution_count": 31,
      "outputs": [
        {
          "output_type": "stream",
          "text": [
            "Intercept : 1.9655172413793096\n"
          ],
          "name": "stdout"
        }
      ]
    },
    {
      "cell_type": "markdown",
      "metadata": {
        "id": "C6_GLlTjbo5E"
      },
      "source": [
        "## Prediksi Harga Pizza"
      ]
    },
    {
      "cell_type": "code",
      "metadata": {
        "colab": {
          "base_uri": "https://localhost:8080/"
        },
        "id": "hnSrKiBsbcdo",
        "outputId": "d80271e4-bc6f-4927-a838-28c042eaaf17"
      },
      "source": [
        "diameter_pizza = np.array([12, 20, 23]).reshape(-1,1)\n",
        "diameter_pizza "
      ],
      "execution_count": 32,
      "outputs": [
        {
          "output_type": "execute_result",
          "data": {
            "text/plain": [
              "array([[12],\n",
              "       [20],\n",
              "       [23]])"
            ]
          },
          "metadata": {
            "tags": []
          },
          "execution_count": 32
        }
      ]
    },
    {
      "cell_type": "code",
      "metadata": {
        "colab": {
          "base_uri": "https://localhost:8080/"
        },
        "id": "G3GFSxqUb528",
        "outputId": "ad3835a1-b4cf-4532-f711-aabd03c84a27"
      },
      "source": [
        "prediksi_harga = model.predict(diameter_pizza)\n",
        "prediksi_harga"
      ],
      "execution_count": 33,
      "outputs": [
        {
          "output_type": "execute_result",
          "data": {
            "text/plain": [
              "array([13.68103448, 21.49137931, 24.42025862])"
            ]
          },
          "metadata": {
            "tags": []
          },
          "execution_count": 33
        }
      ]
    },
    {
      "cell_type": "code",
      "metadata": {
        "colab": {
          "base_uri": "https://localhost:8080/"
        },
        "id": "Pz88PSYbcAv4",
        "outputId": "e2db7900-b312-4c4f-acfa-4109781f872d"
      },
      "source": [
        "for dmtr, hrg in zip(diameter_pizza, prediksi_harga):\n",
        "  print(f'Diameter Pizza : {dmtr} dan prediksi harganya adalah {hrg}')"
      ],
      "execution_count": 35,
      "outputs": [
        {
          "output_type": "stream",
          "text": [
            "Diameter Pizza : [12] dan prediksi harganya adalah 13.681034482758621\n",
            "Diameter Pizza : [20] dan prediksi harganya adalah 21.491379310344826\n",
            "Diameter Pizza : [23] dan prediksi harganya adalah 24.42025862068965\n"
          ],
          "name": "stdout"
        }
      ]
    },
    {
      "cell_type": "markdown",
      "metadata": {
        "id": "p2voj3tpc0Td"
      },
      "source": [
        "## Evaluasi Simple Linear Regression Model"
      ]
    },
    {
      "cell_type": "markdown",
      "metadata": {
        "id": "5_n8gS33c4Ok"
      },
      "source": [
        "## Training dan Testing Dataset"
      ]
    },
    {
      "cell_type": "code",
      "metadata": {
        "id": "-nmoLzA_c3Y1"
      },
      "source": [
        "X_train = np.array([6, 8, 10, 14, 18]).reshape(-1,1)\n",
        "y_train = np.array([7, 9, 13, 17.5, 18])\n",
        "\n",
        "X_test = np.array([8, 9, 11, 16, 12]).reshape(-1,1)\n",
        "y_test = np.array([11, 8.5, 15, 18, 11])"
      ],
      "execution_count": 37,
      "outputs": []
    },
    {
      "cell_type": "markdown",
      "metadata": {
        "id": "q1eWn-wwdY5g"
      },
      "source": [
        "## Training Simple Linear Regression Model"
      ]
    },
    {
      "cell_type": "code",
      "metadata": {
        "colab": {
          "base_uri": "https://localhost:8080/"
        },
        "id": "slQhdonQdSht",
        "outputId": "d9d9ec85-4af7-459f-9e7a-4ecade655d26"
      },
      "source": [
        "model = LinearRegression()\n",
        "model.fit(X_train, y_train)"
      ],
      "execution_count": 38,
      "outputs": [
        {
          "output_type": "execute_result",
          "data": {
            "text/plain": [
              "LinearRegression(copy_X=True, fit_intercept=True, n_jobs=None, normalize=False)"
            ]
          },
          "metadata": {
            "tags": []
          },
          "execution_count": 38
        }
      ]
    },
    {
      "cell_type": "markdown",
      "metadata": {
        "id": "eZ21WCpAdnnD"
      },
      "source": [
        "## Evaluasi Linear Regression Model dengan Coefficient of Determination atau R-squared (R^2)"
      ]
    },
    {
      "cell_type": "code",
      "metadata": {
        "colab": {
          "base_uri": "https://localhost:8080/"
        },
        "id": "0OdOBKC_djsb",
        "outputId": "2b622fb0-0206-4e95-8559-9b01788a773d"
      },
      "source": [
        "from sklearn.metrics import r2_score\n",
        "\n",
        "y_pred = model.predict(X_test)\n",
        "\n",
        "r_squared = r2_score(y_test, y_pred)\n",
        "\n",
        "print(f'R-squared : {r_squared}')"
      ],
      "execution_count": 41,
      "outputs": [
        {
          "output_type": "stream",
          "text": [
            "R-squared : 0.6620052929422553\n"
          ],
          "name": "stdout"
        }
      ]
    },
    {
      "cell_type": "code",
      "metadata": {
        "id": "osnLQF5SeKIG"
      },
      "source": [
        ""
      ],
      "execution_count": null,
      "outputs": []
    }
  ]
}