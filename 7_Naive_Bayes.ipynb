{
  "nbformat": 4,
  "nbformat_minor": 0,
  "metadata": {
    "colab": {
      "name": "7. Naive Bayes.ipynb",
      "provenance": [],
      "collapsed_sections": [],
      "authorship_tag": "ABX9TyNJ83PoBgr+29K9EkrvXIAK",
      "include_colab_link": true
    },
    "kernelspec": {
      "name": "python3",
      "display_name": "Python 3"
    },
    "language_info": {
      "name": "python"
    }
  },
  "cells": [
    {
      "cell_type": "markdown",
      "metadata": {
        "id": "view-in-github",
        "colab_type": "text"
      },
      "source": [
        "<a href=\"https://colab.research.google.com/github/bayuryunarko/belajar-sklearn/blob/main/7_Naive_Bayes.ipynb\" target=\"_parent\"><img src=\"https://colab.research.google.com/assets/colab-badge.svg\" alt=\"Open In Colab\"/></a>"
      ]
    },
    {
      "cell_type": "markdown",
      "metadata": {
        "id": "P88Hjod6gmga"
      },
      "source": [
        "#Latihan SKLearn dari channel Youtube \"Indonesia Belajar\""
      ]
    },
    {
      "cell_type": "markdown",
      "metadata": {
        "id": "hDZ8wDQ-go6N"
      },
      "source": [
        "##Classification Task dengan Naive Bayes"
      ]
    },
    {
      "cell_type": "markdown",
      "metadata": {
        "id": "Bp5Qy-SRhS7a"
      },
      "source": [
        "###Bayes' Theorem\n",
        "\n",
        "Bayes' theorem menawarkan suatu formula untuk menghitung nilai probability dari suatu event dengan memanfaatkan pengetahuan sebelumnya dari kondisi terkait atau sering kali dikenal dengan istilah conditional probability\n",
        "\n",
        "![image.png](data:image/png;base64,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)"
      ]
    },
    {
      "cell_type": "markdown",
      "metadata": {
        "id": "aVIt8unUiQep"
      },
      "source": [
        "###Pengenalan Naive Bayes Classification\n",
        "\n",
        "*Studi Kasus 1*\n",
        "\n",
        "Asep : siomay : 0.1, bakso : 0.8, lumpia : 0.1\n",
        "Joko : siomay : 0.5, bakso : 0.2, lumpia : 0.3\n",
        "\n",
        "**Misi :** Lakukan prediksi siapa pelanggan yang melakukan pemesanan dengan diketahui pesanannya adalah lumpia dan bakso\n",
        "\n",
        "*Prior Probability : P(y)* \n",
        "- *P(Asep)* = 0.5\n",
        "- *P(Joko)* = 0.5\n",
        "\n",
        "*Likelihood : P(X|y)*\n",
        "- Asep:\n",
        "P(lumpia, bakso|Asep) = (0.1 x 0.8) = 0.08\n",
        "- Joko:\n",
        "P(lumpia, bakso|Joko) = (0.3 x 0.2) = 0.06\n",
        "\n",
        "*Evidence atau Normalizer: P(X)*\n",
        "- Evidence = jumlahan total (likelihood x prior)\n",
        "- P(lumpia, bakso) = (0.08 x 0.5) + (0.06 x 0.5) = 0.07\n",
        "\n",
        "*Posterior Probability : P(y|X)*\n",
        "- Asep :\n",
        "P(Asep|lumpia, bakso) = (0.08 x 0.5)/0.7 = 0.57\n",
        "- Joko :\n",
        "P(Joko|lumpia, bakso) = (0.06 x 0.5)/0.7 = 0.43\n",
        "\n",
        "Sehingga pada algoritma ini dianggap jawabannya adalah Asep"
      ]
    },
    {
      "cell_type": "markdown",
      "metadata": {
        "id": "UOQdXoGtmUwJ"
      },
      "source": [
        "###Mengapa disebut Niave?\n",
        "\n",
        "- Karena sewaktu kita mendefinisikan Likelihood ***P(lumpia, bakso|Asep)***\n",
        "- Kita mengasumsikan ***P(lumpia|Asep)*** conditionally independent terhadap ***P(bakso|Asep)*** , demikian sebaliknya\n",
        "-Sehingga dapat diformulasikan sebagai berikut:\n",
        " \n",
        " ***P(lumpia, bakso|Asep) = P(lumpia|Asep) x P(bakso|Asep)***"
      ]
    },
    {
      "cell_type": "markdown",
      "metadata": {
        "id": "GcL2L1AVnYKS"
      },
      "source": [
        "###Dataset : Breast Cancer Wisconsin (Diagnostic)"
      ]
    },
    {
      "cell_type": "markdown",
      "metadata": {
        "id": "RNCLPablnxWk"
      },
      "source": [
        "Load Dataset"
      ]
    },
    {
      "cell_type": "code",
      "metadata": {
        "colab": {
          "base_uri": "https://localhost:8080/"
        },
        "id": "ReVlpYpDd8Sc",
        "outputId": "3efea0c2-fdc4-4e05-f2b0-6eab72aaf36c"
      },
      "source": [
        "from sklearn.datasets import load_breast_cancer\n",
        "\n",
        "print(load_breast_cancer().DESCR)"
      ],
      "execution_count": 2,
      "outputs": [
        {
          "output_type": "stream",
          "text": [
            ".. _breast_cancer_dataset:\n",
            "\n",
            "Breast cancer wisconsin (diagnostic) dataset\n",
            "--------------------------------------------\n",
            "\n",
            "**Data Set Characteristics:**\n",
            "\n",
            "    :Number of Instances: 569\n",
            "\n",
            "    :Number of Attributes: 30 numeric, predictive attributes and the class\n",
            "\n",
            "    :Attribute Information:\n",
            "        - radius (mean of distances from center to points on the perimeter)\n",
            "        - texture (standard deviation of gray-scale values)\n",
            "        - perimeter\n",
            "        - area\n",
            "        - smoothness (local variation in radius lengths)\n",
            "        - compactness (perimeter^2 / area - 1.0)\n",
            "        - concavity (severity of concave portions of the contour)\n",
            "        - concave points (number of concave portions of the contour)\n",
            "        - symmetry \n",
            "        - fractal dimension (\"coastline approximation\" - 1)\n",
            "\n",
            "        The mean, standard error, and \"worst\" or largest (mean of the three\n",
            "        largest values) of these features were computed for each image,\n",
            "        resulting in 30 features.  For instance, field 3 is Mean Radius, field\n",
            "        13 is Radius SE, field 23 is Worst Radius.\n",
            "\n",
            "        - class:\n",
            "                - WDBC-Malignant\n",
            "                - WDBC-Benign\n",
            "\n",
            "    :Summary Statistics:\n",
            "\n",
            "    ===================================== ====== ======\n",
            "                                           Min    Max\n",
            "    ===================================== ====== ======\n",
            "    radius (mean):                        6.981  28.11\n",
            "    texture (mean):                       9.71   39.28\n",
            "    perimeter (mean):                     43.79  188.5\n",
            "    area (mean):                          143.5  2501.0\n",
            "    smoothness (mean):                    0.053  0.163\n",
            "    compactness (mean):                   0.019  0.345\n",
            "    concavity (mean):                     0.0    0.427\n",
            "    concave points (mean):                0.0    0.201\n",
            "    symmetry (mean):                      0.106  0.304\n",
            "    fractal dimension (mean):             0.05   0.097\n",
            "    radius (standard error):              0.112  2.873\n",
            "    texture (standard error):             0.36   4.885\n",
            "    perimeter (standard error):           0.757  21.98\n",
            "    area (standard error):                6.802  542.2\n",
            "    smoothness (standard error):          0.002  0.031\n",
            "    compactness (standard error):         0.002  0.135\n",
            "    concavity (standard error):           0.0    0.396\n",
            "    concave points (standard error):      0.0    0.053\n",
            "    symmetry (standard error):            0.008  0.079\n",
            "    fractal dimension (standard error):   0.001  0.03\n",
            "    radius (worst):                       7.93   36.04\n",
            "    texture (worst):                      12.02  49.54\n",
            "    perimeter (worst):                    50.41  251.2\n",
            "    area (worst):                         185.2  4254.0\n",
            "    smoothness (worst):                   0.071  0.223\n",
            "    compactness (worst):                  0.027  1.058\n",
            "    concavity (worst):                    0.0    1.252\n",
            "    concave points (worst):               0.0    0.291\n",
            "    symmetry (worst):                     0.156  0.664\n",
            "    fractal dimension (worst):            0.055  0.208\n",
            "    ===================================== ====== ======\n",
            "\n",
            "    :Missing Attribute Values: None\n",
            "\n",
            "    :Class Distribution: 212 - Malignant, 357 - Benign\n",
            "\n",
            "    :Creator:  Dr. William H. Wolberg, W. Nick Street, Olvi L. Mangasarian\n",
            "\n",
            "    :Donor: Nick Street\n",
            "\n",
            "    :Date: November, 1995\n",
            "\n",
            "This is a copy of UCI ML Breast Cancer Wisconsin (Diagnostic) datasets.\n",
            "https://goo.gl/U2Uwz2\n",
            "\n",
            "Features are computed from a digitized image of a fine needle\n",
            "aspirate (FNA) of a breast mass.  They describe\n",
            "characteristics of the cell nuclei present in the image.\n",
            "\n",
            "Separating plane described above was obtained using\n",
            "Multisurface Method-Tree (MSM-T) [K. P. Bennett, \"Decision Tree\n",
            "Construction Via Linear Programming.\" Proceedings of the 4th\n",
            "Midwest Artificial Intelligence and Cognitive Science Society,\n",
            "pp. 97-101, 1992], a classification method which uses linear\n",
            "programming to construct a decision tree.  Relevant features\n",
            "were selected using an exhaustive search in the space of 1-4\n",
            "features and 1-3 separating planes.\n",
            "\n",
            "The actual linear program used to obtain the separating plane\n",
            "in the 3-dimensional space is that described in:\n",
            "[K. P. Bennett and O. L. Mangasarian: \"Robust Linear\n",
            "Programming Discrimination of Two Linearly Inseparable Sets\",\n",
            "Optimization Methods and Software 1, 1992, 23-34].\n",
            "\n",
            "This database is also available through the UW CS ftp server:\n",
            "\n",
            "ftp ftp.cs.wisc.edu\n",
            "cd math-prog/cpo-dataset/machine-learn/WDBC/\n",
            "\n",
            ".. topic:: References\n",
            "\n",
            "   - W.N. Street, W.H. Wolberg and O.L. Mangasarian. Nuclear feature extraction \n",
            "     for breast tumor diagnosis. IS&T/SPIE 1993 International Symposium on \n",
            "     Electronic Imaging: Science and Technology, volume 1905, pages 861-870,\n",
            "     San Jose, CA, 1993.\n",
            "   - O.L. Mangasarian, W.N. Street and W.H. Wolberg. Breast cancer diagnosis and \n",
            "     prognosis via linear programming. Operations Research, 43(4), pages 570-577, \n",
            "     July-August 1995.\n",
            "   - W.H. Wolberg, W.N. Street, and O.L. Mangasarian. Machine learning techniques\n",
            "     to diagnose breast cancer from fine-needle aspirates. Cancer Letters 77 (1994) \n",
            "     163-171.\n"
          ],
          "name": "stdout"
        }
      ]
    },
    {
      "cell_type": "code",
      "metadata": {
        "colab": {
          "base_uri": "https://localhost:8080/"
        },
        "id": "cWjy2Narntcr",
        "outputId": "d03c3bd3-fd6c-4e2e-a1e1-39cb0aa327d4"
      },
      "source": [
        "X, y = load_breast_cancer(return_X_y=True)\n",
        "X.shape"
      ],
      "execution_count": 3,
      "outputs": [
        {
          "output_type": "execute_result",
          "data": {
            "text/plain": [
              "(569, 30)"
            ]
          },
          "metadata": {
            "tags": []
          },
          "execution_count": 3
        }
      ]
    },
    {
      "cell_type": "code",
      "metadata": {
        "id": "hAA2wXxaoYnh"
      },
      "source": [
        "load_breast_cancer?"
      ],
      "execution_count": 5,
      "outputs": []
    },
    {
      "cell_type": "markdown",
      "metadata": {
        "id": "qXhdXeNZoHzN"
      },
      "source": [
        "Training dan Testing Set"
      ]
    },
    {
      "cell_type": "code",
      "metadata": {
        "colab": {
          "base_uri": "https://localhost:8080/"
        },
        "id": "31E8M_JZn95o",
        "outputId": "cd146381-3828-4281-8c4f-94e5a480f8e1"
      },
      "source": [
        "from sklearn.model_selection import train_test_split\n",
        "\n",
        "X_train, X_test, y_train, y_test = train_test_split(X, y, test_size=0.2, random_state=0)\n",
        "\n",
        "print(f'X_train shape : {X_train.shape}')\n",
        "print(f'X_test shape : {X_test.shape}')"
      ],
      "execution_count": 6,
      "outputs": [
        {
          "output_type": "stream",
          "text": [
            "X_train shape : (455, 30)\n",
            "X_test shape : (114, 30)\n"
          ],
          "name": "stdout"
        }
      ]
    },
    {
      "cell_type": "markdown",
      "metadata": {
        "id": "TpIQFGKRozH7"
      },
      "source": [
        "###Naive Bayes dengan Scikit Learn"
      ]
    },
    {
      "cell_type": "code",
      "metadata": {
        "colab": {
          "base_uri": "https://localhost:8080/"
        },
        "id": "NFoCPsOVoss_",
        "outputId": "5f02ffc7-8785-4cc6-fff5-78b3fb04f2bf"
      },
      "source": [
        "from sklearn.naive_bayes import GaussianNB\n",
        "from sklearn.metrics import accuracy_score\n",
        "\n",
        "model = GaussianNB()\n",
        "model.fit(X_train, y_train)\n",
        "y_pred = model.predict(X_test)\n",
        "accuracy_score(y_test, y_pred)"
      ],
      "execution_count": 7,
      "outputs": [
        {
          "output_type": "execute_result",
          "data": {
            "text/plain": [
              "0.9298245614035088"
            ]
          },
          "metadata": {
            "tags": []
          },
          "execution_count": 7
        }
      ]
    },
    {
      "cell_type": "code",
      "metadata": {
        "colab": {
          "base_uri": "https://localhost:8080/"
        },
        "id": "W-4eBBjTpJvk",
        "outputId": "adb690d4-0b47-4db8-f904-d7261e2b3e95"
      },
      "source": [
        "model.score(X_test, y_test)"
      ],
      "execution_count": 8,
      "outputs": [
        {
          "output_type": "execute_result",
          "data": {
            "text/plain": [
              "0.9298245614035088"
            ]
          },
          "metadata": {
            "tags": []
          },
          "execution_count": 8
        }
      ]
    },
    {
      "cell_type": "code",
      "metadata": {
        "id": "wgKL7GGZpPMF"
      },
      "source": [
        ""
      ],
      "execution_count": null,
      "outputs": []
    }
  ]
}